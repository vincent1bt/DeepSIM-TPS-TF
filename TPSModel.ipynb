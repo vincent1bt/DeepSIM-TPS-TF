{
  "nbformat": 4,
  "nbformat_minor": 0,
  "metadata": {
    "colab": {
      "name": "TPSModel.ipynb",
      "provenance": [],
      "collapsed_sections": [],
      "toc_visible": true
    },
    "kernelspec": {
      "name": "python3",
      "display_name": "Python 3"
    }
  },
  "cells": [
    {
      "cell_type": "code",
      "metadata": {
        "id": "4MaaBw5DAnqI"
      },
      "source": [
        "import tensorflow as tf\n",
        "from tensorflow.keras import layers\n",
        "import matplotlib.pyplot as plt\n",
        "import os\n",
        "import time\n",
        "import numpy as np"
      ],
      "execution_count": 1,
      "outputs": []
    },
    {
      "cell_type": "code",
      "metadata": {
        "colab": {
          "base_uri": "https://localhost:8080/"
        },
        "id": "G5PVNLiLcQ7x",
        "outputId": "72b09b9c-3d10-45d8-eb04-060f9ec79db9"
      },
      "source": [
        "print(f\"TensorFlow version {tf.__version__}\")\n",
        "\n",
        "device_name = tf.test.gpu_device_name()\n",
        "if not device_name:\n",
        "  print('GPU device not found')\n",
        "else:\n",
        "  !nvidia-smi"
      ],
      "execution_count": 2,
      "outputs": [
        {
          "output_type": "stream",
          "name": "stdout",
          "text": [
            "TensorFlow version 2.7.0\n",
            "GPU device not found\n"
          ]
        }
      ]
    },
    {
      "cell_type": "code",
      "metadata": {
        "id": "3lOfwrTBAAKo",
        "colab": {
          "base_uri": "https://localhost:8080/"
        },
        "outputId": "94d248be-34f9-4d68-cfe4-398132e4bd98"
      },
      "source": [
        "!pip install tfa-nightly"
      ],
      "execution_count": 3,
      "outputs": [
        {
          "output_type": "stream",
          "name": "stdout",
          "text": [
            "Collecting tfa-nightly\n",
            "  Downloading tfa_nightly-0.16.0.dev20211116104445-cp37-cp37m-manylinux_2_12_x86_64.manylinux2010_x86_64.whl (1.1 MB)\n",
            "\u001b[K     |████████████████████████████████| 1.1 MB 9.0 MB/s \n",
            "\u001b[?25hRequirement already satisfied: typeguard>=2.7 in /usr/local/lib/python3.7/dist-packages (from tfa-nightly) (2.7.1)\n",
            "Installing collected packages: tfa-nightly\n",
            "Successfully installed tfa-nightly-0.16.0.dev20211116104445\n"
          ]
        }
      ]
    },
    {
      "cell_type": "code",
      "metadata": {
        "id": "O_wPSKIpTkoD"
      },
      "source": [
        "import tensorflow_addons as tfa"
      ],
      "execution_count": 4,
      "outputs": []
    },
    {
      "cell_type": "code",
      "metadata": {
        "id": "cysJLueVAJEZ"
      },
      "source": [
        "!unzip -q car"
      ],
      "execution_count": 5,
      "outputs": []
    },
    {
      "cell_type": "markdown",
      "metadata": {
        "id": "qy7af2r4xThb"
      },
      "source": [
        "# TPS Augmentation"
      ]
    },
    {
      "cell_type": "code",
      "metadata": {
        "id": "DqILbndDY-PB"
      },
      "source": [
        "# <DataUtils>"
      ],
      "execution_count": 6,
      "outputs": []
    },
    {
      "cell_type": "code",
      "metadata": {
        "id": "nnmURlY_ZAac"
      },
      "source": [
        "#! import tensorflow as tf\n",
        "import tensorflow_addons as tfa"
      ],
      "execution_count": 7,
      "outputs": []
    },
    {
      "cell_type": "code",
      "metadata": {
        "id": "TYaeHoSvAXLl"
      },
      "source": [
        "def get_L_inverse(X, Y):\n",
        "  N = X.shape[0]\n",
        "  Xmat = tf.repeat(X, repeats=[13], axis=1) # Expand to right from 13x1 to 13x13\n",
        "  Ymat = tf.repeat(Y, repeats=[13], axis=1) # Expand to right from 13x1 to 13x13\n",
        "\n",
        "  P_dist_squared = tf.square(Xmat - tf.transpose(Xmat)) + tf.square(Ymat - tf.transpose(Ymat))\n",
        "  P_dist_squared = tf.where(tf.equal(P_dist_squared, 0), tf.ones_like(P_dist_squared), P_dist_squared) # remove 0 values\n",
        "  K = P_dist_squared * tf.math.log(P_dist_squared)\n",
        "\n",
        "  O = tf.ones([N, 1], dtype=tf.float32) \n",
        "  Z = tf.zeros([3, 3], dtype=tf.float32) # upper case o in equation (O)\n",
        "  P = tf.concat([O, X, Y], axis=1)\n",
        "  L = tf.concat([tf.concat([K, P], axis=1), tf.concat([tf.transpose(P), Z], axis=1)], axis=0)\n",
        "\n",
        "  Li = tf.linalg.inv(L)\n",
        "\n",
        "  return Li"
      ],
      "execution_count": 8,
      "outputs": []
    },
    {
      "cell_type": "code",
      "metadata": {
        "id": "szkVdoCcryqO"
      },
      "source": [
        "def create_tps(height=256, width=512):\n",
        "  grid_size = 3\n",
        "  axis_coords_x = tf.linspace(0, height * 2, grid_size)\n",
        "  # when default params: ([  0., 256., 512.]), shape 3\n",
        "  axis_coords_x = tf.cast(axis_coords_x, tf.float32)\n",
        "\n",
        "  axis_coords_y = tf.linspace(0, width * 2, grid_size)\n",
        "  # when default params: ([   0.,  512., 1024.]), shape 3\n",
        "  axis_coords_y = tf.cast(axis_coords_y, tf.float32)\n",
        "  \n",
        "  N = 13\n",
        "  P_Y, P_X = tf.meshgrid(axis_coords_x, axis_coords_y) # control points\n",
        "  # Each shape (grid_size, grid_size)\n",
        "\n",
        "  # when default P_X is\n",
        "  # [[  0., 256., 512.],\n",
        "  # [  0., 256., 512.],\n",
        "  # [  0., 256., 512.]])\n",
        "\n",
        "  # when default P_Y is\n",
        "  # [[   0.,    0.,    0.],\n",
        "  # [ 512.,  512.,  512.],\n",
        "  # [1024., 1024., 1024.]]\n",
        "  \n",
        "  P_X = tf.reshape(P_X, (-1, 1)) # shape (grid_size * grid_size, 1)\n",
        "  P_Y = tf.reshape(P_Y, (-1, 1)) # shape (grid_size * grid_size, 1)\n",
        "\n",
        "  scale = (width * 2) * 0.1\n",
        "  random_points_x = tf.random.uniform(P_X.shape, minval=-scale, maxval=scale)\n",
        "  random_points_y = tf.random.uniform(P_Y.shape, minval=-scale, maxval=scale)\n",
        "\n",
        "  DST_X = P_X + random_points_x\n",
        "  DST_Y = P_Y + random_points_y\n",
        "\n",
        "  # corners of the grid 0, width * 2  0, height * 2\n",
        "  corner_points_x = tf.expand_dims([0, 0, width * 2, width * 2], axis=1)\n",
        "  corner_points_x = tf.cast(corner_points_x, tf.float32)\n",
        "\n",
        "  corner_points_y = tf.expand_dims([0, height * 2, 0, height * 2], axis=1)\n",
        "  corner_points_y = tf.cast(corner_points_y, tf.float32)\n",
        "\n",
        "  DST_X = tf.concat([DST_X, corner_points_x], axis=0) # shape ((grid_size * grid_size) + 3, 1) or (N, 1)\n",
        "  DST_Y = tf.concat([DST_Y, corner_points_y], axis=0) # shape ((grid_size * grid_size) + 3, 1) or (N, 1)\n",
        "\n",
        "  Q_X = DST_X\n",
        "  Q_Y = DST_Y\n",
        "\n",
        "  Q_X = tf.cast(Q_X, tf.float32) # shape (13, 1)\n",
        "  Q_Y = tf.cast(Q_Y, tf.float32) # shape (13, 1)\n",
        "  # contains the modified grid, grid + random points and corner points\n",
        "\n",
        "  P_X = tf.concat([P_X, corner_points_x], axis=0) # shape (13, 1)\n",
        "  P_Y = tf.concat([P_Y, corner_points_y], axis=0) # shape (13, 1)\n",
        "  # contains the original grid and corner points\n",
        "\n",
        "  Li = get_L_inverse(Q_X, Q_Y)  # shape (16, 16)\n",
        "\n",
        "  P_X = tf.expand_dims(P_X, 0) # shape (1, 13, 1)\n",
        "  P_Y = tf.expand_dims(P_Y, 0) # shape (1, 13, 1)\n",
        "\n",
        "  Li = tf.expand_dims(Li, 0) # shape (1, 16, 16)\n",
        "\n",
        "  W_X = tf.linalg.matmul(Li[:, :N, :N], P_X) # Automatic broadcast for Li\n",
        "  W_Y = tf.linalg.matmul(Li[:, :N, :N], P_Y) # Automatic broadcast for Li\n",
        "  # 1, 13, 13 * 1, 13, 1\n",
        "  # Ignoring first dimension 13, 13 * 13, 1 == 13, 1\n",
        "  # shape (1, 13, 1)\n",
        "\n",
        "  W_X = tf.expand_dims(W_X, 3)\n",
        "  W_X = tf.expand_dims(W_X, 4)\n",
        "  # shape (1, 13, 1, 1, 1)\n",
        "  W_X = tf.transpose(W_X, [0, 4, 2, 3, 1])\n",
        "  # shape (1, 1, 1, 1, 13)\n",
        "\n",
        "  W_Y = tf.expand_dims(W_Y, 3)\n",
        "  W_Y = tf.expand_dims(W_Y, 4)\n",
        "  # shape (1, 13, 1, 1, 1)\n",
        "  W_Y = tf.transpose(W_Y, [0, 4, 2, 3, 1])\n",
        "  # shape (1, 1, 1, 1, 13)\n",
        "\n",
        "  # compute weights for affine part\n",
        "  A_X = tf.linalg.matmul(Li[:, N:, :N], P_X) # Automatic broadcast for Li\n",
        "  A_Y = tf.linalg.matmul(Li[:, N:, :N], P_Y) # Automatic broadcast for Li\n",
        "  # 1, 3, 13 * 1, 13, 1\n",
        "  # Ignoring first dimension 3, 13 * 13, 1 == 3, 1\n",
        "  # shape (1, 3, 1)\n",
        "\n",
        "  A_X = tf.expand_dims(A_X, 3)\n",
        "  A_X = tf.expand_dims(A_X, 4)\n",
        "  A_X = tf.transpose(A_X, [0, 4, 2, 3, 1])\n",
        "\n",
        "  A_Y = tf.expand_dims(A_Y, 3)\n",
        "  A_Y = tf.expand_dims(A_Y, 4)\n",
        "  A_Y = tf.transpose(A_Y, [0, 4, 2, 3, 1])\n",
        "  # shape (1, 1, 1, 1, 3)\n",
        "\n",
        "  grid_Y, grid_X = tf.meshgrid(tf.linspace(0, width * 2, width), tf.linspace(0, height * 2, height)) # 0, 256, 512\n",
        "  # shape (256, 512)\n",
        " \n",
        "  grid_X = tf.expand_dims(tf.expand_dims(grid_X, 0), 3)\n",
        "  grid_Y = tf.expand_dims(tf.expand_dims(grid_Y, 0), 3)\n",
        "  # shape (1, 256, 512, 1)\n",
        "\n",
        "  points = tf.concat([grid_X, grid_Y], axis=3)\n",
        "  points = tf.cast(points, tf.float32)\n",
        "  # shape (1, 256, 512, 2)\n",
        "\n",
        "  points_X_for_summation = tf.expand_dims(points[:, :, :, 0], axis=-1) # shape (1, 256, 512, 1)\n",
        "  points_Y_for_summation = tf.expand_dims(points[:, :, :, 1], axis=-1)\n",
        "\n",
        "  # change to Q\n",
        "  Q_X = tf.expand_dims(Q_X, 2)\n",
        "  Q_X = tf.expand_dims(Q_X, 3)\n",
        "  Q_X = tf.expand_dims(Q_X, 4)\n",
        "  Q_X = tf.transpose(Q_X) # shape (1, 1, 1, 1, 13)\n",
        "\n",
        "  Q_Y = tf.expand_dims(Q_Y, 2)\n",
        "  Q_Y = tf.expand_dims(Q_Y, 3)\n",
        "  Q_Y = tf.expand_dims(Q_Y, 4)\n",
        "  Q_Y = tf.transpose(Q_Y) # shape (1, 1, 1, 1, 13)\n",
        "\n",
        "  delta_X = Q_X - tf.expand_dims(points_X_for_summation, axis=-1)\n",
        "  delta_Y = Q_Y - tf.expand_dims(points_Y_for_summation, axis=-1)\n",
        "  # shape 1, 256, 512, 1, 13\n",
        "\n",
        "  dist_squared = tf.square(delta_X) + tf.square(delta_Y)\n",
        "  dist_squared = tf.where(tf.equal(dist_squared, 0), tf.ones_like(dist_squared), dist_squared) # remove 0 values\n",
        "  U = dist_squared * tf.math.log(dist_squared)\n",
        "  # shape 1, 256, 512, 1, 13\n",
        "\n",
        "  points_X_prime = A_X[:, :, :, :, 0] + (A_X[:, :, :, :, 1] * points_X_for_summation) + (A_X[:, :, :, :, 2] * points_Y_for_summation)\n",
        "  points_X_prime += tf.keras.backend.sum((W_X * U), axis=-1)\n",
        "\n",
        "  points_Y_prime = A_Y[:, :, :, :, 0] + (A_Y[:, :, :, :, 1] * points_X_for_summation) + (A_Y[:, :, :, :, 2] * points_Y_for_summation)\n",
        "  points_Y_prime += tf.keras.backend.sum((W_Y * U), axis=-1)\n",
        "  # shape (1, 256, 512, 1)\n",
        "\n",
        "  warped_grid = tf.concat([points_X_prime, points_Y_prime], axis=-1)\n",
        "  # shape (1, 256, 512, 2)\n",
        "\n",
        "  return warped_grid"
      ],
      "execution_count": 106,
      "outputs": []
    },
    {
      "cell_type": "code",
      "metadata": {
        "id": "V_G8-3Ucr2-O"
      },
      "source": [
        "def tps_augmentation(img, tps, height=256, width=512):\n",
        "  new_max = width\n",
        "  new_min = 0\n",
        "  grid_x = (new_max - new_min) / (tf.keras.backend.max(tps[:, :, :, 1]) - tf.keras.backend.min(tps[:, :, :, 1])) * (tps[:, :, :, 1] - tf.keras.backend.max(tps[:, :, :, 1])) + new_max\n",
        "\n",
        "  new_max = height\n",
        "  new_min = 0\n",
        "  grid_y = (new_max - new_min) / (tf.keras.backend.max(tps[:, :, :, 0]) - tf.keras.backend.min(tps[:, :, :, 0])) * (tps[:, :, :, 0] - tf.keras.backend.max(tps[:, :, :, 0])) + new_max\n",
        "\n",
        "  grid = tf.stack([grid_x, grid_y], axis=-1)\n",
        "\n",
        "  final_image = tfa.image.resampler(tf.expand_dims(img, axis=0), grid)\n",
        "  \n",
        "  return final_image[0]"
      ],
      "execution_count": 37,
      "outputs": []
    },
    {
      "cell_type": "code",
      "metadata": {
        "id": "D0A5tMAmZC-q"
      },
      "source": [
        "# <DataUtilsEnd>"
      ],
      "execution_count": null,
      "outputs": []
    },
    {
      "cell_type": "code",
      "metadata": {
        "id": "cWB4JgY1_m68"
      },
      "source": [
        "tps = create_tps(height=256, width=512)\n",
        "# use grid_Y, grid_X = tf.meshgrid(tf.linspace(0, 512 * 2, 32), tf.linspace(0, 512 * 2, 32)) # 0, 256, 512"
      ],
      "execution_count": 93,
      "outputs": []
    },
    {
      "cell_type": "code",
      "metadata": {
        "id": "wEh_z5jE_q17"
      },
      "source": [
        "grid_Y, grid_X = tf.meshgrid(tf.linspace(0, 512 * 2, 32), tf.linspace(0, 512 * 2, 32)) # 0, 256, 512"
      ],
      "execution_count": 76,
      "outputs": []
    },
    {
      "cell_type": "code",
      "metadata": {
        "id": "PspYufWRDwJm"
      },
      "source": [
        "grid_xx = tf.reshape(grid_X, -1)\n",
        "grid_yy = tf.reshape(grid_Y, -1)"
      ],
      "execution_count": 77,
      "outputs": []
    },
    {
      "cell_type": "code",
      "metadata": {
        "colab": {
          "base_uri": "https://localhost:8080/",
          "height": 610
        },
        "id": "C7pBow51D3qU",
        "outputId": "1e36d041-87d8-49c5-82d5-46ab5d210de7"
      },
      "source": [
        "plt.subplots(figsize=(15, 10))\n",
        "plt.scatter(grid_xx, grid_yy, s=7)"
      ],
      "execution_count": 86,
      "outputs": [
        {
          "output_type": "execute_result",
          "data": {
            "text/plain": [
              "<matplotlib.collections.PathCollection at 0x7f98b71b04d0>"
            ]
          },
          "metadata": {},
          "execution_count": 86
        },
        {
          "output_type": "display_data",
          "data": {
            "image/png": "[encoded data removed]",
            "text/plain": [
              "<Figure size 1080x720 with 1 Axes>"
            ]
          },
          "metadata": {
            "needs_background": "light"
          }
        }
      ]
    },
    {
      "cell_type": "code",
      "metadata": {
        "id": "QcQJsoRCBtmL"
      },
      "source": [
        "tps_x = tf.reshape(tps[0, :, :, 0], -1)\n",
        "tps_y = tf.reshape(tps[0, :, :, 1], -1)"
      ],
      "execution_count": 94,
      "outputs": []
    },
    {
      "cell_type": "code",
      "metadata": {
        "colab": {
          "base_uri": "https://localhost:8080/",
          "height": 610
        },
        "id": "fFDEsHpyA1Jq",
        "outputId": "662c6a52-f1db-481d-a111-aad3b2006e11"
      },
      "source": [
        "plt.subplots(figsize=(15, 10))\n",
        "plt.scatter(tps_x, tps_y, s=7)"
      ],
      "execution_count": 85,
      "outputs": [
        {
          "output_type": "execute_result",
          "data": {
            "text/plain": [
              "<matplotlib.collections.PathCollection at 0x7f98b7248e90>"
            ]
          },
          "metadata": {},
          "execution_count": 85
        },
        {
          "output_type": "display_data",
          "data": {
            "image/png": "[encoded data removed]",
            "text/plain": [
              "<Figure size 1080x720 with 1 Axes>"
            ]
          },
          "metadata": {
            "needs_background": "light"
          }
        }
      ]
    },
    {
      "cell_type": "markdown",
      "metadata": {
        "id": "BvtYB5RFvoSa"
      },
      "source": [
        "# Data Generator"
      ]
    },
    {
      "cell_type": "code",
      "metadata": {
        "id": "xGraW6pRZNHt"
      },
      "source": [
        "# <DataGenerator>"
      ],
      "execution_count": null,
      "outputs": []
    },
    {
      "cell_type": "code",
      "metadata": {
        "id": "qbHv8oEqZxdl"
      },
      "source": [
        "#! import tensorflow as tf\n",
        "#! import os\n",
        "#! from data_generator.data_utils import create_tps, tps_augmentation"
      ],
      "execution_count": null,
      "outputs": []
    },
    {
      "cell_type": "code",
      "metadata": {
        "id": "oDnh0BiRxjkt"
      },
      "source": [
        "data_path = os.path.abspath(\"./data/car\")"
      ],
      "execution_count": 113,
      "outputs": []
    },
    {
      "cell_type": "code",
      "metadata": {
        "id": "VEEw111axuWt"
      },
      "source": [
        "image_height = 256\n",
        "image_width = 512"
      ],
      "execution_count": 99,
      "outputs": []
    },
    {
      "cell_type": "code",
      "metadata": {
        "id": "Sj7MFbPhAbQR"
      },
      "source": [
        "def load_image(image_path):\n",
        "  img = tf.io.read_file(image_path)\n",
        "  img = tf.image.decode_jpeg(img, channels=3)\n",
        "  img = tf.image.convert_image_dtype(img, tf.float32)\n",
        "  img = tf.image.resize(img, [image_height, image_width])\n",
        "  \n",
        "  return img"
      ],
      "execution_count": 100,
      "outputs": []
    },
    {
      "cell_type": "code",
      "metadata": {
        "id": "HhwgU5SgAeQV"
      },
      "source": [
        "def augment_image(img, flip, tps):\n",
        "  img = tps_augmentation(img, tps)\n",
        "\n",
        "  if flip:\n",
        "    img = tf.image.flip_left_right(img)\n",
        "  \n",
        "  return img"
      ],
      "execution_count": 101,
      "outputs": []
    },
    {
      "cell_type": "code",
      "metadata": {
        "id": "k6LzkvOLAfea"
      },
      "source": [
        "def load_train_image(data_path):\n",
        "  input_img = load_image(tf.strings.join([data_path, \"/input/\", \"car.png\"])) # load the image in range (0, 1)\n",
        "  label_img = load_image(tf.strings.join([data_path, \"/real/\", \"car.png\"])) # load the image in range (0, 1)\n",
        "\n",
        "  flip = tf.random.uniform([]) > 0.5\n",
        "\n",
        "  tps = create_tps()\n",
        "\n",
        "  input_img = augment_image(input_img, flip, tps)\n",
        "  label_img = augment_image(label_img, flip, tps)\n",
        "\n",
        "  return input_img, label_img"
      ],
      "execution_count": 102,
      "outputs": []
    },
    {
      "cell_type": "code",
      "metadata": {
        "id": "F4LMGNAAAhhk"
      },
      "source": [
        "train_dataset = tf.data.Dataset.from_tensor_slices([data_path])\n",
        "train_dataset = train_dataset.map(load_train_image)"
      ],
      "execution_count": 109,
      "outputs": []
    },
    {
      "cell_type": "code",
      "metadata": {
        "id": "bnHN5aQNZRje"
      },
      "source": [
        "# <DataGeneratorEnd>"
      ],
      "execution_count": null,
      "outputs": []
    },
    {
      "cell_type": "markdown",
      "metadata": {
        "id": "l1q1HalPZTsx"
      },
      "source": [
        "# Data Generator Test"
      ]
    },
    {
      "cell_type": "code",
      "metadata": {
        "id": "wi_Ief0GZVhy"
      },
      "source": [
        "# <DataGeneratorTest>"
      ],
      "execution_count": null,
      "outputs": []
    },
    {
      "cell_type": "code",
      "metadata": {
        "id": "vd7UHrNoZbxT"
      },
      "source": [
        "#! import tensorflow as tf\n",
        "#! import numpy as np\n",
        "#! import matplotlib.pyplot as plt\n",
        "#! from data_generator.data_generator import train_dataset "
      ],
      "execution_count": null,
      "outputs": []
    },
    {
      "cell_type": "code",
      "metadata": {
        "id": "qGy2rQq8ZjtP"
      },
      "source": [
        "train_generator = train_dataset.batch(1)"
      ],
      "execution_count": 110,
      "outputs": []
    },
    {
      "cell_type": "code",
      "metadata": {
        "id": "P7smf8fzAitu",
        "colab": {
          "base_uri": "https://localhost:8080/",
          "height": 217
        },
        "outputId": "5704ba1a-8d8a-435a-cc71-d409d1888ed0"
      },
      "source": [
        "for input_img, label_img in train_generator:\n",
        "  print(input_img.shape)\n",
        "  _, ax = plt.subplots(nrows=1, ncols=2, figsize=(8, 10))\n",
        "  ax[0].set_title(\"Input Image\")\n",
        "  ax[0].imshow(input_img[0])\n",
        "\n",
        "  ax[1].set_title(\"Label Image\")\n",
        "  ax[1].imshow(label_img[0])"
      ],
      "execution_count": 111,
      "outputs": [
        {
          "output_type": "stream",
          "name": "stderr",
          "text": [
            "Clipping input data to the valid range for imshow with RGB data ([0..1] for floats or [0..255] for integers).\n",
            "Clipping input data to the valid range for imshow with RGB data ([0..1] for floats or [0..255] for integers).\n"
          ]
        },
        {
          "output_type": "stream",
          "name": "stdout",
          "text": [
            "(1, 256, 512, 3)\n"
          ]
        },
        {
          "output_type": "display_data",
          "data": {
            "image/png": "[encoded data removed]",
            "text/plain": [
              "<Figure size 576x720 with 2 Axes>"
            ]
          },
          "metadata": {
            "needs_background": "light"
          }
        }
      ]
    },
    {
      "cell_type": "code",
      "metadata": {
        "id": "58quQfnxAjmv",
        "colab": {
          "base_uri": "https://localhost:8080/"
        },
        "outputId": "fa1e4da5-4e14-4a1a-ca52-6983f128bb18"
      },
      "source": [
        "input_img.numpy().min(), input_img.numpy().max()"
      ],
      "execution_count": null,
      "outputs": [
        {
          "output_type": "execute_result",
          "data": {
            "text/plain": [
              "(0.0, 1.0000001)"
            ]
          },
          "metadata": {},
          "execution_count": 25
        }
      ]
    },
    {
      "cell_type": "code",
      "metadata": {
        "id": "mHbEd5XwAklx",
        "colab": {
          "base_uri": "https://localhost:8080/"
        },
        "outputId": "ed4b0f36-c11e-4c11-b863-f89bf5fd82a4"
      },
      "source": [
        "label_img.numpy().min(), label_img.numpy().max()"
      ],
      "execution_count": null,
      "outputs": [
        {
          "output_type": "execute_result",
          "data": {
            "text/plain": [
              "(0.0, 1.0000001)"
            ]
          },
          "metadata": {},
          "execution_count": 26
        }
      ]
    },
    {
      "cell_type": "code",
      "metadata": {
        "id": "D8q16IIGZX8V"
      },
      "source": [
        "# <DataGeneratorTestEnd>"
      ],
      "execution_count": null,
      "outputs": []
    },
    {
      "cell_type": "markdown",
      "metadata": {
        "id": "suGLvCx4csEK"
      },
      "source": [
        "# Blocks"
      ]
    },
    {
      "cell_type": "code",
      "metadata": {
        "id": "7xFqcS-Tcr2q"
      },
      "source": [
        "# <Blocks>"
      ],
      "execution_count": null,
      "outputs": []
    },
    {
      "cell_type": "code",
      "metadata": {
        "id": "aGDcO9APc4hx"
      },
      "source": [
        "#! import tensorflow as tf\n",
        "#! from tensorflow.keras import layers\n",
        "import tensorflow_addons as tfa"
      ],
      "execution_count": null,
      "outputs": []
    },
    {
      "cell_type": "code",
      "metadata": {
        "id": "aMggL7y1c1Ec"
      },
      "source": [
        "kernel_init = tf.keras.initializers.RandomNormal(mean=0.0, stddev=0.02)"
      ],
      "execution_count": null,
      "outputs": []
    },
    {
      "cell_type": "code",
      "metadata": {
        "id": "ijPeJtJKcvOf"
      },
      "source": [
        "class ResBlock(tf.keras.Model):\n",
        "  def __init__(self):\n",
        "    super(ResBlock, self).__init__()\n",
        "    self.conv_1 = layers.Conv2D(1024, kernel_size=(3, 3), strides=(1, 1), padding='valid', kernel_initializer=kernel_init)\n",
        "    self.conv_2 = layers.Conv2D(1024, kernel_size=(3, 3), strides=(1, 1), padding='valid', kernel_initializer=kernel_init)\n",
        "\n",
        "    self.norm_1 = tfa.layers.InstanceNormalization()\n",
        "    self.norm_2 = tfa.layers.InstanceNormalization()\n",
        "\n",
        "    self.padding_values = [[0, 0], [1, 1], [1, 1], [0, 0]]\n",
        "  \n",
        "  def call(self, x):\n",
        "    x_skip = x \n",
        "\n",
        "    x = tf.pad(x, self.padding_values, mode=\"REFLECT\")\n",
        "\n",
        "    x = self.conv_1(x)\n",
        "    x = self.norm_1(x)\n",
        "    x = layers.ReLU()(x)\n",
        "\n",
        "    x = tf.pad(x, self.padding_values, mode=\"REFLECT\")\n",
        "    \n",
        "    x = self.conv_2(x)\n",
        "    x = self.norm_2(x)\n",
        "\n",
        "    x = layers.add([x, x_skip])\n",
        "\n",
        "    return x"
      ],
      "execution_count": null,
      "outputs": []
    },
    {
      "cell_type": "code",
      "metadata": {
        "id": "XL7CleJ2dECu"
      },
      "source": [
        "# <BlocksEnd>"
      ],
      "execution_count": null,
      "outputs": []
    },
    {
      "cell_type": "markdown",
      "metadata": {
        "id": "kF4_l-6TAyZD"
      },
      "source": [
        "# Models"
      ]
    },
    {
      "cell_type": "code",
      "metadata": {
        "id": "nANaEyipdjxS"
      },
      "source": [
        "# <Model>"
      ],
      "execution_count": null,
      "outputs": []
    },
    {
      "cell_type": "code",
      "metadata": {
        "id": "35k7ua9Sc3rD"
      },
      "source": [
        "#! import tensorflow as tf\n",
        "#! from tensorflow.keras import layers\n",
        "#! from networks.model_blocks import ResBlock\n",
        "import tensorflow_addons as tfa"
      ],
      "execution_count": null,
      "outputs": []
    },
    {
      "cell_type": "code",
      "metadata": {
        "id": "ntP0FPSVtiZ9"
      },
      "source": [
        "kernel_init = tf.keras.initializers.RandomNormal(mean=0.0, stddev=0.02)"
      ],
      "execution_count": null,
      "outputs": []
    },
    {
      "cell_type": "code",
      "metadata": {
        "id": "W_MvTZU7Axd1"
      },
      "source": [
        "class Generator(tf.keras.Model):\n",
        "  def __init__(self):\n",
        "    super(Generator, self).__init__()\n",
        "\n",
        "    self.conv_1 = layers.Conv2D(64, kernel_size=(7, 7), strides=(1, 1), padding='valid', kernel_initializer=kernel_init)\n",
        "    self.conv_2 = layers.Conv2D(128, kernel_size=(3, 3), strides=(2, 2), padding='same', kernel_initializer=kernel_init)\n",
        "    self.conv_3 = layers.Conv2D(256, kernel_size=(3, 3), strides=(2, 2), padding='same', kernel_initializer=kernel_init)\n",
        "    self.conv_4 = layers.Conv2D(512, kernel_size=(3, 3), strides=(2, 2), padding='same', kernel_initializer=kernel_init)\n",
        "    self.conv_5 = layers.Conv2D(1024, kernel_size=(3, 3), strides=(2, 2), padding='same', kernel_initializer=kernel_init)\n",
        "\n",
        "\n",
        "    self.norm_1 = tfa.layers.InstanceNormalization()\n",
        "    self.norm_2 = tfa.layers.InstanceNormalization()\n",
        "    self.norm_3 = tfa.layers.InstanceNormalization()\n",
        "    self.norm_4 = tfa.layers.InstanceNormalization()\n",
        "\n",
        "    self.norm_5 = tfa.layers.InstanceNormalization()\n",
        "    self.norm_6 = tfa.layers.InstanceNormalization()\n",
        "    self.norm_7 = tfa.layers.InstanceNormalization()\n",
        "    self.norm_8 = tfa.layers.InstanceNormalization()\n",
        "    self.norm_9 = tfa.layers.InstanceNormalization()\n",
        "\n",
        "    self.res_block_1 = ResBlock()\n",
        "    self.res_block_2 = ResBlock()\n",
        "    self.res_block_3 = ResBlock()\n",
        "    self.res_block_4 = ResBlock()\n",
        "    self.res_block_5 = ResBlock()\n",
        "    self.res_block_6 = ResBlock()\n",
        "    self.res_block_7 = ResBlock()\n",
        "    self.res_block_8 = ResBlock()\n",
        "    self.res_block_9 = ResBlock()\n",
        "\n",
        "    # Transpose, change to upsampling after!\n",
        "\n",
        "    self.conv_6 = layers.Conv2DTranspose(512, kernel_size=(3, 3), strides=(2, 2), padding=\"same\", kernel_initializer=kernel_init)\n",
        "    self.conv_7 = layers.Conv2DTranspose(256, kernel_size=(3, 3), strides=(2, 2), padding=\"same\", kernel_initializer=kernel_init)\n",
        "    self.conv_8 = layers.Conv2DTranspose(128, kernel_size=(3, 3), strides=(2, 2), padding=\"same\", kernel_initializer=kernel_init)\n",
        "    self.conv_9 = layers.Conv2DTranspose(64, kernel_size=(3, 3), strides=(2, 2), padding=\"same\", kernel_initializer=kernel_init)\n",
        "    self.conv_10 = layers.Conv2D(3, kernel_size=(7, 7), strides=(1, 1), padding='valid', kernel_initializer=kernel_init)\n",
        "\n",
        "    self.padding_values = [[0, 0], [3, 3], [3, 3], [0, 0]]\n",
        "\n",
        "\n",
        "  def call(self, x):\n",
        "    # inputs 640x640x3\n",
        "    # example used 256, 256, 3\n",
        "\n",
        "    x = tf.pad(x, self.padding_values, mode=\"REFLECT\")\n",
        "    x = self.conv_1(x)\n",
        "    x = self.norm_1(x)\n",
        "    x = layers.ReLU()(x)\n",
        "\n",
        "    x = self.conv_2(x)\n",
        "    x = self.norm_2(x)\n",
        "    x = layers.ReLU()(x)\n",
        "\n",
        "    x = self.conv_3(x)\n",
        "    x = self.norm_3(x)\n",
        "    x = layers.ReLU()(x)\n",
        "\n",
        "    x = self.conv_4(x)\n",
        "    x = self.norm_4(x)\n",
        "    x = layers.ReLU()(x)\n",
        "\n",
        "    x = self.conv_5(x)\n",
        "    x = self.norm_5(x)\n",
        "    x = layers.ReLU()(x)\n",
        "\n",
        "    x = self.res_block_1(x)\n",
        "    x = self.res_block_2(x)\n",
        "    x = self.res_block_3(x)\n",
        "    x = self.res_block_4(x)\n",
        "    x = self.res_block_5(x)\n",
        "    x = self.res_block_6(x)\n",
        "    x = self.res_block_7(x)\n",
        "    x = self.res_block_8(x)\n",
        "    x = self.res_block_9(x)\n",
        "\n",
        "    x = self.conv_6(x)\n",
        "    x = self.norm_6(x)\n",
        "    x = layers.ReLU()(x)\n",
        "\n",
        "    x = self.conv_7(x)\n",
        "    x = self.norm_7(x)\n",
        "    x = layers.ReLU()(x)\n",
        "\n",
        "    x = self.conv_8(x)\n",
        "    x = self.norm_8(x)\n",
        "    x = layers.ReLU()(x)\n",
        "\n",
        "    x = self.conv_9(x)\n",
        "    x = self.norm_9(x)\n",
        "    x = layers.ReLU()(x)\n",
        "\n",
        "    x = tf.pad(x, self.padding_values, mode=\"REFLECT\")\n",
        "    x = self.conv_10(x)\n",
        "    x = tf.keras.activations.tanh(x)\n",
        "\n",
        "    return x"
      ],
      "execution_count": null,
      "outputs": []
    },
    {
      "cell_type": "code",
      "metadata": {
        "id": "Udvk5KYDA02k"
      },
      "source": [
        "class Discriminator(tf.keras.Model):\n",
        "  def __init__(self):\n",
        "    super(Discriminator, self).__init__()\n",
        "\n",
        "    self.conv_1 = layers.Conv2D(64, kernel_size=(4, 4), strides=(2, 2), padding='same', kernel_initializer=kernel_init)\n",
        "    self.conv_2 = layers.Conv2D(128, kernel_size=(4, 4), strides=(2, 2), padding='same', kernel_initializer=kernel_init)\n",
        "    self.conv_3 = layers.Conv2D(256, kernel_size=(4, 4), strides=(2, 2), padding='same', kernel_initializer=kernel_init)\n",
        "    self.conv_4 = layers.Conv2D(512, kernel_size=(4, 4), strides=(1, 1), padding='same', kernel_initializer=kernel_init)\n",
        "\n",
        "    self.conv_5 = layers.Conv2D(1, kernel_size=(4, 4), strides=(1, 1), padding='same', kernel_initializer=kernel_init)\n",
        "\n",
        "    self.conv_6 = layers.Conv2D(64, kernel_size=(4, 4), strides=(2, 2), padding='same', kernel_initializer=kernel_init)\n",
        "    self.conv_7 = layers.Conv2D(128, kernel_size=(4, 4), strides=(2, 2), padding='same', kernel_initializer=kernel_init)\n",
        "    self.conv_8 = layers.Conv2D(256, kernel_size=(4, 4), strides=(2, 2), padding='same', kernel_initializer=kernel_init)\n",
        "    self.conv_9 = layers.Conv2D(512, kernel_size=(4, 4), strides=(1, 1), padding='same', kernel_initializer=kernel_init)\n",
        "\n",
        "    self.conv_10 = layers.Conv2D(1, kernel_size=(4, 4), strides=(1, 1), padding='same', kernel_initializer=kernel_init)\n",
        "\n",
        "    self.norm_1 = tfa.layers.InstanceNormalization()\n",
        "    self.norm_2 = tfa.layers.InstanceNormalization()\n",
        "    self.norm_3 = tfa.layers.InstanceNormalization()\n",
        "  \n",
        "    self.norm_4 = tfa.layers.InstanceNormalization()\n",
        "    self.norm_5 = tfa.layers.InstanceNormalization()\n",
        "    self.norm_6 = tfa.layers.InstanceNormalization()\n",
        "    \n",
        "  def call(self, input_tensor):\n",
        "    # input size HxwX6 channels=6\n",
        "    output_1 = []\n",
        "    output_2 = []\n",
        "    \n",
        "    x = input_tensor\n",
        "    x = self.conv_1(x)\n",
        "    x = layers.LeakyReLU()(x)\n",
        "\n",
        "    output_1.append(x)\n",
        "\n",
        "    x = self.conv_2(x)\n",
        "    x = self.norm_1(x)\n",
        "    x = layers.LeakyReLU()(x)\n",
        "\n",
        "    output_1.append(x)\n",
        "\n",
        "    x = self.conv_3(x)\n",
        "    x = self.norm_2(x)\n",
        "    x = layers.LeakyReLU()(x)\n",
        "\n",
        "    output_1.append(x)\n",
        "\n",
        "    x = self.conv_4(x)\n",
        "    x = self.norm_3(x)\n",
        "    x = layers.LeakyReLU()(x)\n",
        "\n",
        "    output_1.append(x)\n",
        "\n",
        "    x = self.conv_5(x)\n",
        "\n",
        "    output_1.append(x)\n",
        "\n",
        "    x2 = layers.AveragePooling2D()(input_tensor)\n",
        "    x2 = self.conv_6(x2)\n",
        "    x2 = layers.LeakyReLU()(x2)\n",
        "\n",
        "    output_2.append(x2)\n",
        "\n",
        "    x2 = self.conv_7(x2)\n",
        "    x2 = self.norm_4(x2)\n",
        "    x2 = layers.LeakyReLU()(x2)\n",
        "\n",
        "    output_2.append(x2)\n",
        "\n",
        "    x2 = self.conv_8(x2)\n",
        "    x2 = self.norm_5(x2)\n",
        "    x2 = layers.LeakyReLU()(x2)\n",
        "\n",
        "    output_2.append(x2)\n",
        "\n",
        "    x2 = self.conv_9(x2)\n",
        "    x2 = self.norm_6(x2)\n",
        "    x2 = layers.LeakyReLU()(x2)\n",
        "\n",
        "    output_2.append(x2)\n",
        "\n",
        "    x2 = self.conv_10(x2)\n",
        "\n",
        "    output_2.append(x2)\n",
        "\n",
        "    return [output_1, output_2]"
      ],
      "execution_count": null,
      "outputs": []
    },
    {
      "cell_type": "markdown",
      "metadata": {
        "id": "ATY0PqGJK_Xv"
      },
      "source": [
        "### VGG"
      ]
    },
    {
      "cell_type": "code",
      "metadata": {
        "id": "t4jxQ0G4K_Ff"
      },
      "source": [
        "class Vgg19(tf.keras.Model):\n",
        "  def __init__(self):\n",
        "    super(Vgg19, self).__init__()\n",
        "    layers = ['block1_conv1', 'block2_conv1', 'block3_conv1', 'block4_conv1', 'block5_conv1'] \n",
        "    vgg = tf.keras.applications.VGG19(include_top=False, weights='imagenet')\n",
        "    vgg.trainable = False\n",
        "    \n",
        "    outputs = [vgg.get_layer(name).output for name in layers]\n",
        "\n",
        "    self.model = tf.keras.Model([vgg.input], outputs)\n",
        "  \n",
        "  def call(self, x):\n",
        "    x = tf.keras.applications.vgg19.preprocess_input(x * 255.0)\n",
        "    return self.model(x)"
      ],
      "execution_count": null,
      "outputs": []
    },
    {
      "cell_type": "code",
      "metadata": {
        "id": "0svOAgUEdho9"
      },
      "source": [
        "# <ModelEnd>"
      ],
      "execution_count": null,
      "outputs": []
    },
    {
      "cell_type": "markdown",
      "metadata": {
        "id": "d8sQ39MGLFJW"
      },
      "source": [
        "# Loss Functions"
      ]
    },
    {
      "cell_type": "code",
      "metadata": {
        "id": "wp6lj31aehQV"
      },
      "source": [
        "# <Loss>"
      ],
      "execution_count": null,
      "outputs": []
    },
    {
      "cell_type": "code",
      "metadata": {
        "id": "IKwEfdmYeg9Q"
      },
      "source": [
        "#! import tensorflow as tf"
      ],
      "execution_count": null,
      "outputs": []
    },
    {
      "cell_type": "code",
      "metadata": {
        "id": "SfWxuOg6ipPr"
      },
      "source": [
        "mse = tf.keras.losses.MeanSquaredError()"
      ],
      "execution_count": null,
      "outputs": []
    },
    {
      "cell_type": "code",
      "metadata": {
        "id": "pMWfToQ5LE_r"
      },
      "source": [
        "def discriminator_fake_loss(input_features):\n",
        "  loss = 0.0\n",
        "\n",
        "  for input_i in input_features: # list of 2\n",
        "    pred = input_i[-1] # list of 5 where we take the last element\n",
        "    loss += mse(tf.zeros_like(pred), pred)\n",
        "\n",
        "  return loss"
      ],
      "execution_count": null,
      "outputs": []
    },
    {
      "cell_type": "code",
      "metadata": {
        "id": "wneM0CX7tq2W"
      },
      "source": [
        "def discriminator_real_loss(input_features):\n",
        "  loss = 0.0\n",
        "\n",
        "  for input_i in input_features: # list of 2\n",
        "    pred = input_i[-1] # list of 5 where we take the last element\n",
        "    loss += mse(tf.ones_like(pred), pred)\n",
        "\n",
        "  return loss"
      ],
      "execution_count": null,
      "outputs": []
    },
    {
      "cell_type": "code",
      "metadata": {
        "id": "F10-TOwxttDv"
      },
      "source": [
        "def compute_discriminator_loss(real_features, fake_features):\n",
        "  loss = discriminator_fake_loss(fake_features) + discriminator_real_loss(real_features) * 0.5\n",
        "\n",
        "  return loss"
      ],
      "execution_count": null,
      "outputs": []
    },
    {
      "cell_type": "code",
      "metadata": {
        "id": "E5CoH_hlx-SZ"
      },
      "source": [
        "def feature_matching_loss(real_features, fake_features):\n",
        "  D_weights = 1.0 / 2.0\n",
        "  feat_weights = 4.0 / (3 + 1)\n",
        "  lambda_feat = 10.0\n",
        "\n",
        "  loss = 0.0\n",
        "  \n",
        "  for i in range(2):\n",
        "    for j in range(len(fake_features[i]) - 1): # 5-1\n",
        "      loss += D_weights * feat_weights * tf.reduce_mean(tf.abs(real_features[i][j] - fake_features[i][j])) * lambda_feat\n",
        "\n",
        "  return loss"
      ],
      "execution_count": null,
      "outputs": []
    },
    {
      "cell_type": "code",
      "metadata": {
        "id": "Pzy8n8Sp27y1"
      },
      "source": [
        "def perceptual_loss(true_list, fake_list):\n",
        "  lambda_feat = 10.0\n",
        "  weights = [1.0/32, 1.0/16, 1.0/8, 1.0/4, 1.0]        \n",
        "\n",
        "  loss = 0\n",
        "  for feature_map_y, feature_map, w in zip(true_list, fake_list, weights):\n",
        "    loss += w * tf.reduce_mean(tf.abs(feature_map_y - feature_map))\n",
        "  \n",
        "  return loss"
      ],
      "execution_count": null,
      "outputs": []
    },
    {
      "cell_type": "code",
      "metadata": {
        "id": "FAEPDZqBu8J5"
      },
      "source": [
        "def compute_generator_loss(real_features, fake_features, true_list, fake_list):\n",
        "  loss = discriminator_real_loss(fake_features)\n",
        "  loss += feature_matching_loss(real_features, fake_features)\n",
        "\n",
        "  loss += perceptual_loss(true_list, fake_list)\n",
        "\n",
        "  return loss"
      ],
      "execution_count": null,
      "outputs": []
    },
    {
      "cell_type": "code",
      "metadata": {
        "id": "XoSPRjxJ_giY"
      },
      "source": [
        "# <LossEnd>"
      ],
      "execution_count": null,
      "outputs": []
    },
    {
      "cell_type": "markdown",
      "metadata": {
        "id": "zeS48voXd4GK"
      },
      "source": [
        "# Training Utils"
      ]
    },
    {
      "cell_type": "code",
      "metadata": {
        "id": "PrHX0h_yd6o6"
      },
      "source": [
        "# <TrainingUtils>"
      ],
      "execution_count": null,
      "outputs": []
    },
    {
      "cell_type": "code",
      "metadata": {
        "id": "p7r9C6RBeeoK"
      },
      "source": [
        "#! import tensorflow as tf\n",
        "\n",
        "#! from networks.loss_functions import compute_generator_loss, compute_discriminator_loss"
      ],
      "execution_count": null,
      "outputs": []
    },
    {
      "cell_type": "code",
      "metadata": {
        "id": "K9Y5XM0Yd-GX"
      },
      "source": [
        "def inner_step(input_img,\n",
        "               label_img,\n",
        "               discriminator,\n",
        "               generator,\n",
        "               vgg,\n",
        "               generator_optimizer,\n",
        "               discriminator_optimizer\n",
        "               ):\n",
        "  with tf.GradientTape() as gen_tape, tf.GradientTape() as disc_tape:\n",
        "    fake_image = generator(input_img)\n",
        "\n",
        "    discriminator_fake_input = tf.concat([input_img, fake_image], axis=-1)\n",
        "    fake_prediction = discriminator(discriminator_fake_input)\n",
        "\n",
        "    discriminator_real_input = tf.concat([input_img, label_img], axis=-1)\n",
        "    real_prediction = discriminator(discriminator_real_input)\n",
        "\n",
        "    true_list = vgg(label_img)\n",
        "    fake_list = vgg(fake_image)\n",
        "\n",
        "    generator_loss = compute_generator_loss(real_prediction, fake_prediction, true_list, fake_list)\n",
        "    discriminator_loss = compute_discriminator_loss(real_prediction, fake_prediction)\n",
        "  \n",
        "  g_gradients = gen_tape.gradient(generator_loss, generator.trainable_variables)\n",
        "  d_gradients = disc_tape.gradient(discriminator_loss, discriminator.trainable_variables)\n",
        "\n",
        "  generator_optimizer.apply_gradients(zip(g_gradients, generator.trainable_variables))\n",
        "  discriminator_optimizer.apply_gradients(zip(d_gradients, discriminator.trainable_variables))\n",
        "\n",
        "  return generator_loss, discriminator_loss"
      ],
      "execution_count": null,
      "outputs": []
    },
    {
      "cell_type": "code",
      "metadata": {
        "id": "0fu8qbzqiGAM"
      },
      "source": [
        "def lr_decay(optimizer, learning_rate):\n",
        "  current_lr = optimizer.lr\n",
        "  new_lr = current_lr - (learning_rate / 8000)\n",
        "  optimizer.lr = new_lr\n",
        "\n",
        "  return optimizer"
      ],
      "execution_count": null,
      "outputs": []
    },
    {
      "cell_type": "code",
      "metadata": {
        "id": "uFG5qgcbd6SR"
      },
      "source": [
        "# <TrainingUtilsEnd>"
      ],
      "execution_count": null,
      "outputs": []
    },
    {
      "cell_type": "markdown",
      "metadata": {
        "id": "Tq_Xi_rWey7w"
      },
      "source": [
        "# Model Testing"
      ]
    },
    {
      "cell_type": "code",
      "metadata": {
        "id": "8mMayRLie0X7"
      },
      "source": [
        "# <ModelTest>"
      ],
      "execution_count": null,
      "outputs": []
    },
    {
      "cell_type": "code",
      "metadata": {
        "id": "c34KZJcEe2_X"
      },
      "source": [
        "#! import tensorflow as tf\n",
        "#! from networks.models import Generator, Discriminator"
      ],
      "execution_count": null,
      "outputs": []
    },
    {
      "cell_type": "code",
      "metadata": {
        "id": "AVEi_eSueytx"
      },
      "source": [
        "generator = Generator()\n",
        "discriminator = Discriminator()"
      ],
      "execution_count": null,
      "outputs": []
    },
    {
      "cell_type": "code",
      "metadata": {
        "id": "inDUNqlifxoY"
      },
      "source": [
        "generator_input_shape = (2, 256, 512, 3)\n",
        "generator_input = tf.random.normal(generator_input_shape)"
      ],
      "execution_count": null,
      "outputs": []
    },
    {
      "cell_type": "code",
      "metadata": {
        "id": "mazkEGjTf4QI"
      },
      "source": [
        "generator_output = generator(generator_input)\n",
        "# discriminator_output = generator(generator_output)"
      ],
      "execution_count": null,
      "outputs": []
    },
    {
      "cell_type": "code",
      "metadata": {
        "id": "9diR8PPvfenF"
      },
      "source": [
        "def test_generator_output_shape():\n",
        "  assert generator_output.shape == (2, 256, 512, 3), generator_output.shape"
      ],
      "execution_count": null,
      "outputs": []
    },
    {
      "cell_type": "code",
      "metadata": {
        "id": "Hq8FKee5e1-m"
      },
      "source": [
        "# <ModelTestEnd>"
      ],
      "execution_count": null,
      "outputs": []
    },
    {
      "cell_type": "markdown",
      "metadata": {
        "id": "jjJasY3nJi5g"
      },
      "source": [
        "# Training"
      ]
    },
    {
      "cell_type": "code",
      "metadata": {
        "id": "iIbqg5jGhIsw"
      },
      "source": [
        "# <Train>"
      ],
      "execution_count": null,
      "outputs": []
    },
    {
      "cell_type": "code",
      "metadata": {
        "id": "rUvjAWKthL-S"
      },
      "source": [
        "#! import tensorflow as tf\n",
        "#! import time\n",
        "#! import os\n",
        "#! from train_utils import inner_step, lr_decay\n",
        "import builtins"
      ],
      "execution_count": null,
      "outputs": []
    },
    {
      "cell_type": "code",
      "metadata": {
        "id": "unxa0TDYha9G"
      },
      "source": [
        "#! from networks.models import Generator, Discriminator, Vgg19\n",
        "#! from data_generator.data_generator import train_dataset "
      ],
      "execution_count": null,
      "outputs": []
    },
    {
      "cell_type": "code",
      "metadata": {
        "id": "AZhwpyu2KjZL"
      },
      "source": [
        "import argparse"
      ],
      "execution_count": null,
      "outputs": []
    },
    {
      "cell_type": "code",
      "metadata": {
        "id": "hQ1v_YQbKkzW"
      },
      "source": [
        "parser = argparse.ArgumentParser()"
      ],
      "execution_count": null,
      "outputs": []
    },
    {
      "cell_type": "code",
      "metadata": {
        "colab": {
          "base_uri": "https://localhost:8080/"
        },
        "id": "0jhix2eJKqzK",
        "outputId": "6385ef0d-a06b-4d4a-ebe8-f5006305bcd7"
      },
      "source": [
        "parser.add_argument('--epochs', type=int, default=12000, help='Number of epochs to train the model')\n",
        "parser.add_argument('--continue_training', default=False, action='store_true', help='Use training checkpoints to continue training the model')\n",
        "parser.add_argument('--save_generator', default=False, action='store_true', help='Save the generator after training')"
      ],
      "execution_count": null,
      "outputs": [
        {
          "output_type": "execute_result",
          "data": {
            "text/plain": [
              "_StoreTrueAction(option_strings=['--save_generator'], dest='save_generator', nargs=0, const=True, default=False, type=None, choices=None, help='Save the generator after training', metavar=None)"
            ]
          },
          "metadata": {},
          "execution_count": 91
        }
      ]
    },
    {
      "cell_type": "code",
      "metadata": {
        "id": "wHs7drkl_Ee8"
      },
      "source": [
        "using_notebook = getattr(builtins, \"__IPYTHON__\", False)"
      ],
      "execution_count": null,
      "outputs": []
    },
    {
      "cell_type": "code",
      "metadata": {
        "id": "ov7raIIxbYLC"
      },
      "source": [
        "opts = parser.parse_args([]) if using_notebook else parser.parse_args()"
      ],
      "execution_count": null,
      "outputs": []
    },
    {
      "cell_type": "code",
      "metadata": {
        "id": "oZ21bGcQCgTV"
      },
      "source": [
        "learning_rate = 0.0002\n",
        "generator_lr = learning_rate\n",
        "discriminator_lr = learning_rate\n",
        "\n",
        "generator_optimizer = tf.keras.optimizers.Adam(learning_rate=generator_lr, beta_1=0.5, beta_2=0.999)\n",
        "discriminator_optimizer = tf.keras.optimizers.Adam(learning_rate=discriminator_lr, beta_1=0.5, beta_2=0.999)"
      ],
      "execution_count": null,
      "outputs": []
    },
    {
      "cell_type": "code",
      "metadata": {
        "id": "K19mg4xEaIe7"
      },
      "source": [
        "batch_size = 1"
      ],
      "execution_count": null,
      "outputs": []
    },
    {
      "cell_type": "code",
      "metadata": {
        "id": "_y8uAJs7aG8y"
      },
      "source": [
        "train_generator = train_dataset.batch(batch_size)"
      ],
      "execution_count": null,
      "outputs": []
    },
    {
      "cell_type": "code",
      "metadata": {
        "id": "jA3Kc-yvO-_Y",
        "colab": {
          "base_uri": "https://localhost:8080/"
        },
        "outputId": "23efc4d2-86cc-4f14-e088-274349b88342"
      },
      "source": [
        "generator = Generator()\n",
        "discriminator = Discriminator()\n",
        "vgg = Vgg19()"
      ],
      "execution_count": null,
      "outputs": [
        {
          "output_type": "stream",
          "name": "stdout",
          "text": [
            "Downloading data from https://storage.googleapis.com/tensorflow/keras-applications/vgg19/vgg19_weights_tf_dim_ordering_tf_kernels_notop.h5\n",
            "80142336/80134624 [==============================] - 0s 0us/step\n",
            "80150528/80134624 [==============================] - 0s 0us/step\n"
          ]
        }
      ]
    },
    {
      "cell_type": "markdown",
      "metadata": {
        "id": "k03QuLr1HF1g"
      },
      "source": [
        "### Checkpoints"
      ]
    },
    {
      "cell_type": "code",
      "metadata": {
        "id": "MrY9dyNpPebQ"
      },
      "source": [
        "checkpoint_dir = './training_checkpoints'\n",
        "checkpoint_prefix = os.path.join(checkpoint_dir, \"ckpt\")\n",
        "checkpoint = tf.train.Checkpoint(generator=generator,\n",
        "                                 discriminator=discriminator,\n",
        "                                 generator_optimizer=generator_optimizer,\n",
        "                                 discriminator_optimizer=discriminator_optimizer)"
      ],
      "execution_count": null,
      "outputs": []
    },
    {
      "cell_type": "code",
      "metadata": {
        "id": "RaUjR2RzL_LI"
      },
      "source": [
        "if opts.continue_training:\n",
        "  print(\"loading training checkpoints: \")                   \n",
        "  print(tf.train.latest_checkpoint(checkpoint_dir))\n",
        "  checkpoint.restore(tf.train.latest_checkpoint(checkpoint_dir))"
      ],
      "execution_count": null,
      "outputs": []
    },
    {
      "cell_type": "markdown",
      "metadata": {
        "id": "62XYkK81HEQ0"
      },
      "source": [
        "### Train"
      ]
    },
    {
      "cell_type": "code",
      "metadata": {
        "id": "k3BRGiXVKqVm"
      },
      "source": [
        "@tf.function\n",
        "def train_step(input_img, label_img):\n",
        "  return inner_step(input_img,\n",
        "                    label_img,\n",
        "                    discriminator,\n",
        "                    generator,\n",
        "                    vgg,\n",
        "                    generator_optimizer,\n",
        "                    discriminator_optimizer)"
      ],
      "execution_count": null,
      "outputs": []
    },
    {
      "cell_type": "code",
      "metadata": {
        "id": "U10Sxt31lMpB"
      },
      "source": [
        "train_loss_results, train_loss_metric = [], tf.keras.metrics.Mean()\n",
        "gen_loss_results, gen_loss_metric = [], tf.keras.metrics.Mean()\n",
        "disc_loss_results, disc_loss_metric = [], tf.keras.metrics.Mean()"
      ],
      "execution_count": null,
      "outputs": []
    },
    {
      "cell_type": "code",
      "metadata": {
        "id": "lil5AD8enc92"
      },
      "source": [
        "epochs = opts.epochs\n",
        "start_epoch = 0\n",
        "epoch_decay = 8000"
      ],
      "execution_count": null,
      "outputs": []
    },
    {
      "cell_type": "code",
      "metadata": {
        "id": "AUzEYu8zKsxd"
      },
      "source": [
        "def train(epochs):\n",
        "  for epoch in range(start_epoch, epochs):\n",
        "    epoch_time = time.time()\n",
        "    epoch_count = f\"0{epoch + 1}/{epochs}\" if epoch < 9 else f\"{epoch + 1}/{epochs}\"\n",
        "\n",
        "    for input_img, label_img in train_generator:\n",
        "      generator_loss, discriminator_loss = train_step(input_img, label_img)\n",
        "\n",
        "      generator_loss = float(generator_loss)\n",
        "      discriminator_loss = float(discriminator_loss)\n",
        "      loss = generator_loss + discriminator_loss  \n",
        "        \n",
        "    train_loss_results.append(loss)\n",
        "    gen_loss_results.append(generator_loss)\n",
        "    disc_loss_results.append(discriminator_loss)\n",
        "    \n",
        "    if (epoch % 250 ) == 0:\n",
        "      checkpoint.save(file_prefix=checkpoint_prefix)\n",
        "\n",
        "    if epoch > epoch_decay:\n",
        "      generator_optimizer = lr_decay(generator_optimizer, learning_rate)\n",
        "      discriminator_optimizer = lr_decay(discriminator_optimizer, learning_rate)\n",
        "    \n",
        "    if (epoch % 100) == 0:\n",
        "      print('\\r', 'Epoch', epoch_count, '| Loss:', f\"{loss:.5f}\", '| Discriminator loss:', f\"{discriminator_loss:.5f}\",\n",
        "          '| Generator loss:', f\"{generator_loss:.5f}\", \"| Epoch Time:\", f\"{time.time() - epoch_time:.2f}\")"
      ],
      "execution_count": null,
      "outputs": []
    },
    {
      "cell_type": "code",
      "metadata": {
        "id": "hdsaii1Mizcx"
      },
      "source": [
        "#! train(epochs)"
      ],
      "execution_count": null,
      "outputs": []
    },
    {
      "cell_type": "code",
      "metadata": {
        "id": "WBxAiuakU6EM"
      },
      "source": [
        "if opts.save_generator:\n",
        "  generator.save('saved_model/tps_generator')"
      ],
      "execution_count": null,
      "outputs": []
    },
    {
      "cell_type": "code",
      "metadata": {
        "id": "xdO_LcryiztP"
      },
      "source": [
        "# <TrainEnd>"
      ],
      "execution_count": null,
      "outputs": []
    },
    {
      "cell_type": "code",
      "metadata": {
        "colab": {
          "base_uri": "https://localhost:8080/"
        },
        "id": "8xHrrynVKw3D",
        "outputId": "8724dd3e-c8ec-4a0c-c8c5-4d5e4b13202b"
      },
      "source": [
        "train(epochs)"
      ],
      "execution_count": null,
      "outputs": [
        {
          "output_type": "stream",
          "text": [
            " Epoch 01/12000 | Loss: 568.31111 | Discriminator loss: 7.90309 | Generator loss: 560.40802 | Epoch Time: 20.54\n",
            " Epoch 101/12000 | Loss: 190.92688 | Discriminator loss: 0.59890 | Generator loss: 190.32799 | Epoch Time: 0.69\n",
            " Epoch 201/12000 | Loss: 173.77620 | Discriminator loss: 0.72064 | Generator loss: 173.05556 | Epoch Time: 0.72\n",
            " Epoch 301/12000 | Loss: 138.67129 | Discriminator loss: 0.48651 | Generator loss: 138.18478 | Epoch Time: 0.70\n",
            " Epoch 401/12000 | Loss: 130.75290 | Discriminator loss: 0.40346 | Generator loss: 130.34944 | Epoch Time: 0.71\n",
            " Epoch 501/12000 | Loss: 150.67508 | Discriminator loss: 0.56835 | Generator loss: 150.10674 | Epoch Time: 0.70\n",
            " Epoch 601/12000 | Loss: 133.91800 | Discriminator loss: 0.33194 | Generator loss: 133.58606 | Epoch Time: 0.71\n",
            " Epoch 701/12000 | Loss: 124.22589 | Discriminator loss: 0.43161 | Generator loss: 123.79428 | Epoch Time: 0.70\n",
            " Epoch 801/12000 | Loss: 122.43356 | Discriminator loss: 0.47138 | Generator loss: 121.96218 | Epoch Time: 0.70\n",
            " Epoch 901/12000 | Loss: 109.88824 | Discriminator loss: 0.78351 | Generator loss: 109.10474 | Epoch Time: 0.71\n",
            " Epoch 1001/12000 | Loss: 106.97883 | Discriminator loss: 0.23448 | Generator loss: 106.74435 | Epoch Time: 0.70\n",
            " Epoch 1101/12000 | Loss: 116.63520 | Discriminator loss: 0.39801 | Generator loss: 116.23720 | Epoch Time: 0.70\n",
            " Epoch 1201/12000 | Loss: 126.54985 | Discriminator loss: 0.37056 | Generator loss: 126.17929 | Epoch Time: 0.70\n",
            " Epoch 1301/12000 | Loss: 101.71455 | Discriminator loss: 0.25453 | Generator loss: 101.46002 | Epoch Time: 0.70\n",
            " Epoch 1401/12000 | Loss: 128.32111 | Discriminator loss: 0.37118 | Generator loss: 127.94993 | Epoch Time: 0.70\n",
            " Epoch 1501/12000 | Loss: 111.90411 | Discriminator loss: 0.39976 | Generator loss: 111.50435 | Epoch Time: 0.71\n",
            " Epoch 1601/12000 | Loss: 103.38838 | Discriminator loss: 0.35530 | Generator loss: 103.03307 | Epoch Time: 0.71\n",
            " Epoch 1701/12000 | Loss: 95.77354 | Discriminator loss: 0.35064 | Generator loss: 95.42290 | Epoch Time: 0.70\n",
            " Epoch 1801/12000 | Loss: 97.96767 | Discriminator loss: 0.38095 | Generator loss: 97.58672 | Epoch Time: 0.70\n",
            " Epoch 1901/12000 | Loss: 95.87098 | Discriminator loss: 0.15803 | Generator loss: 95.71295 | Epoch Time: 0.72\n",
            " Epoch 2001/12000 | Loss: 99.73977 | Discriminator loss: 0.28460 | Generator loss: 99.45517 | Epoch Time: 0.70\n",
            " Epoch 2101/12000 | Loss: 91.54055 | Discriminator loss: 0.47342 | Generator loss: 91.06712 | Epoch Time: 0.70\n",
            " Epoch 2201/12000 | Loss: 110.48193 | Discriminator loss: 0.38679 | Generator loss: 110.09514 | Epoch Time: 0.72\n",
            " Epoch 2301/12000 | Loss: 107.01708 | Discriminator loss: 0.31607 | Generator loss: 106.70101 | Epoch Time: 0.71\n",
            " Epoch 2401/12000 | Loss: 78.64508 | Discriminator loss: 0.40200 | Generator loss: 78.24308 | Epoch Time: 0.70\n",
            " Epoch 2501/12000 | Loss: 87.50129 | Discriminator loss: 0.24938 | Generator loss: 87.25191 | Epoch Time: 0.70\n",
            " Epoch 2601/12000 | Loss: 93.69593 | Discriminator loss: 0.18721 | Generator loss: 93.50872 | Epoch Time: 0.70\n",
            " Epoch 2701/12000 | Loss: 95.88869 | Discriminator loss: 1.65975 | Generator loss: 94.22894 | Epoch Time: 0.70\n",
            " Epoch 2801/12000 | Loss: 90.65368 | Discriminator loss: 0.73085 | Generator loss: 89.92283 | Epoch Time: 0.70\n",
            " Epoch 2901/12000 | Loss: 90.95426 | Discriminator loss: 0.18414 | Generator loss: 90.77012 | Epoch Time: 0.71\n",
            " Epoch 3001/12000 | Loss: 85.05093 | Discriminator loss: 0.19719 | Generator loss: 84.85374 | Epoch Time: 0.70\n",
            " Epoch 3101/12000 | Loss: 92.74104 | Discriminator loss: 0.08388 | Generator loss: 92.65717 | Epoch Time: 0.72\n",
            " Epoch 3201/12000 | Loss: 80.04314 | Discriminator loss: 0.37012 | Generator loss: 79.67302 | Epoch Time: 0.70\n",
            " Epoch 3301/12000 | Loss: 87.11752 | Discriminator loss: 0.38810 | Generator loss: 86.72942 | Epoch Time: 0.70\n",
            " Epoch 3401/12000 | Loss: 105.93195 | Discriminator loss: 0.42318 | Generator loss: 105.50877 | Epoch Time: 0.70\n",
            " Epoch 3501/12000 | Loss: 83.48036 | Discriminator loss: 0.39373 | Generator loss: 83.08662 | Epoch Time: 0.70\n",
            " Epoch 3601/12000 | Loss: 79.58528 | Discriminator loss: 0.35653 | Generator loss: 79.22874 | Epoch Time: 0.71\n",
            " Epoch 3701/12000 | Loss: 70.28914 | Discriminator loss: 0.67430 | Generator loss: 69.61484 | Epoch Time: 0.70\n",
            " Epoch 3801/12000 | Loss: 84.74915 | Discriminator loss: 0.54966 | Generator loss: 84.19949 | Epoch Time: 0.72\n",
            " Epoch 3901/12000 | Loss: 86.72411 | Discriminator loss: 0.62654 | Generator loss: 86.09756 | Epoch Time: 0.71\n",
            " Epoch 4001/12000 | Loss: 67.68713 | Discriminator loss: 0.55169 | Generator loss: 67.13544 | Epoch Time: 0.72\n",
            " Epoch 4101/12000 | Loss: 85.27135 | Discriminator loss: 0.41878 | Generator loss: 84.85257 | Epoch Time: 0.70\n",
            " Epoch 4201/12000 | Loss: 82.91773 | Discriminator loss: 0.43249 | Generator loss: 82.48524 | Epoch Time: 0.72\n",
            " Epoch 4301/12000 | Loss: 68.79506 | Discriminator loss: 1.13037 | Generator loss: 67.66470 | Epoch Time: 0.70\n",
            " Epoch 4401/12000 | Loss: 81.10343 | Discriminator loss: 0.41426 | Generator loss: 80.68916 | Epoch Time: 0.70\n",
            " Epoch 4501/12000 | Loss: 74.12219 | Discriminator loss: 0.50318 | Generator loss: 73.61902 | Epoch Time: 0.72\n",
            " Epoch 4601/12000 | Loss: 78.82740 | Discriminator loss: 0.45414 | Generator loss: 78.37326 | Epoch Time: 0.71\n",
            " Epoch 4701/12000 | Loss: 67.31717 | Discriminator loss: 0.44012 | Generator loss: 66.87705 | Epoch Time: 0.71\n",
            " Epoch 4801/12000 | Loss: 79.52583 | Discriminator loss: 0.65776 | Generator loss: 78.86807 | Epoch Time: 0.69\n",
            " Epoch 4901/12000 | Loss: 75.65899 | Discriminator loss: 0.38922 | Generator loss: 75.26977 | Epoch Time: 0.70\n",
            " Epoch 5001/12000 | Loss: 70.11288 | Discriminator loss: 0.60287 | Generator loss: 69.51001 | Epoch Time: 0.70\n",
            " Epoch 5101/12000 | Loss: 70.17516 | Discriminator loss: 0.38235 | Generator loss: 69.79281 | Epoch Time: 0.70\n",
            " Epoch 5201/12000 | Loss: 75.01796 | Discriminator loss: 0.14865 | Generator loss: 74.86932 | Epoch Time: 0.70\n",
            " Epoch 5301/12000 | Loss: 78.84383 | Discriminator loss: 0.33108 | Generator loss: 78.51275 | Epoch Time: 0.71\n",
            " Epoch 5401/12000 | Loss: 77.91846 | Discriminator loss: 0.55210 | Generator loss: 77.36636 | Epoch Time: 0.69\n",
            " Epoch 5501/12000 | Loss: 73.86351 | Discriminator loss: 0.13729 | Generator loss: 73.72621 | Epoch Time: 0.72\n",
            " Epoch 5601/12000 | Loss: 72.84960 | Discriminator loss: 0.20163 | Generator loss: 72.64797 | Epoch Time: 0.70\n",
            " Epoch 5701/12000 | Loss: 85.32173 | Discriminator loss: 0.11576 | Generator loss: 85.20596 | Epoch Time: 0.71\n",
            " Epoch 5801/12000 | Loss: 75.78942 | Discriminator loss: 0.29433 | Generator loss: 75.49509 | Epoch Time: 0.71\n",
            " Epoch 5901/12000 | Loss: 81.40871 | Discriminator loss: 0.60825 | Generator loss: 80.80046 | Epoch Time: 0.72\n",
            " Epoch 6001/12000 | Loss: 81.07747 | Discriminator loss: 0.23662 | Generator loss: 80.84085 | Epoch Time: 0.70\n",
            " Epoch 6101/12000 | Loss: 71.93616 | Discriminator loss: 0.35774 | Generator loss: 71.57842 | Epoch Time: 0.71\n",
            " Epoch 6201/12000 | Loss: 71.57482 | Discriminator loss: 0.39635 | Generator loss: 71.17847 | Epoch Time: 0.70\n",
            " Epoch 6301/12000 | Loss: 57.58545 | Discriminator loss: 0.18458 | Generator loss: 57.40087 | Epoch Time: 0.72\n",
            " Epoch 6401/12000 | Loss: 70.52738 | Discriminator loss: 0.28479 | Generator loss: 70.24258 | Epoch Time: 0.71\n",
            " Epoch 6501/12000 | Loss: 78.12263 | Discriminator loss: 0.20616 | Generator loss: 77.91647 | Epoch Time: 0.70\n",
            " Epoch 6601/12000 | Loss: 70.54928 | Discriminator loss: 0.26514 | Generator loss: 70.28414 | Epoch Time: 0.71\n",
            " Epoch 6701/12000 | Loss: 59.19264 | Discriminator loss: 0.31140 | Generator loss: 58.88124 | Epoch Time: 0.72\n",
            " Epoch 6801/12000 | Loss: 65.77278 | Discriminator loss: 0.54331 | Generator loss: 65.22946 | Epoch Time: 0.70\n",
            " Epoch 6901/12000 | Loss: 65.71156 | Discriminator loss: 0.32246 | Generator loss: 65.38910 | Epoch Time: 0.73\n",
            " Epoch 7001/12000 | Loss: 75.34229 | Discriminator loss: 0.11431 | Generator loss: 75.22798 | Epoch Time: 0.70\n",
            " Epoch 7101/12000 | Loss: 79.97279 | Discriminator loss: 0.18276 | Generator loss: 79.79002 | Epoch Time: 0.70\n",
            " Epoch 7201/12000 | Loss: 69.37597 | Discriminator loss: 0.17512 | Generator loss: 69.20086 | Epoch Time: 0.71\n",
            " Epoch 7301/12000 | Loss: 72.21819 | Discriminator loss: 0.26973 | Generator loss: 71.94846 | Epoch Time: 0.72\n",
            " Epoch 7401/12000 | Loss: 60.56013 | Discriminator loss: 0.56765 | Generator loss: 59.99248 | Epoch Time: 0.71\n",
            " Epoch 7501/12000 | Loss: 58.37965 | Discriminator loss: 0.37398 | Generator loss: 58.00567 | Epoch Time: 0.71\n",
            " Epoch 7601/12000 | Loss: 56.83114 | Discriminator loss: 0.50032 | Generator loss: 56.33082 | Epoch Time: 0.70\n",
            " Epoch 7701/12000 | Loss: 60.56331 | Discriminator loss: 0.51386 | Generator loss: 60.04944 | Epoch Time: 0.71\n",
            " Epoch 7801/12000 | Loss: 72.13983 | Discriminator loss: 0.38514 | Generator loss: 71.75469 | Epoch Time: 0.69\n",
            " Epoch 7901/12000 | Loss: 84.28997 | Discriminator loss: 0.54182 | Generator loss: 83.74815 | Epoch Time: 0.70\n",
            " Epoch 8001/12000 | Loss: 63.06068 | Discriminator loss: 0.35751 | Generator loss: 62.70317 | Epoch Time: 0.70\n",
            " Epoch 8101/12000 | Loss: 67.79660 | Discriminator loss: 0.38012 | Generator loss: 67.41647 | Epoch Time: 0.70\n",
            " Epoch 8201/12000 | Loss: 61.87475 | Discriminator loss: 0.44818 | Generator loss: 61.42657 | Epoch Time: 0.70\n",
            " Epoch 8301/12000 | Loss: 51.12398 | Discriminator loss: 0.50871 | Generator loss: 50.61527 | Epoch Time: 0.72\n",
            " Epoch 8401/12000 | Loss: 60.99737 | Discriminator loss: 0.44114 | Generator loss: 60.55623 | Epoch Time: 0.72\n",
            " Epoch 8501/12000 | Loss: 54.55974 | Discriminator loss: 0.61672 | Generator loss: 53.94302 | Epoch Time: 0.70\n",
            " Epoch 8601/12000 | Loss: 61.49416 | Discriminator loss: 0.39688 | Generator loss: 61.09729 | Epoch Time: 0.71\n",
            " Epoch 8701/12000 | Loss: 56.90227 | Discriminator loss: 0.49912 | Generator loss: 56.40315 | Epoch Time: 0.72\n",
            " Epoch 8801/12000 | Loss: 63.67427 | Discriminator loss: 0.48452 | Generator loss: 63.18975 | Epoch Time: 0.72\n",
            " Epoch 8901/12000 | Loss: 59.42569 | Discriminator loss: 0.43137 | Generator loss: 58.99432 | Epoch Time: 0.70\n",
            " Epoch 9001/12000 | Loss: 54.84408 | Discriminator loss: 0.36818 | Generator loss: 54.47590 | Epoch Time: 0.70\n",
            " Epoch 9101/12000 | Loss: 55.50802 | Discriminator loss: 0.53985 | Generator loss: 54.96817 | Epoch Time: 0.70\n",
            " Epoch 9201/12000 | Loss: 61.37540 | Discriminator loss: 0.59426 | Generator loss: 60.78114 | Epoch Time: 0.69\n",
            " Epoch 9301/12000 | Loss: 66.78901 | Discriminator loss: 0.36710 | Generator loss: 66.42191 | Epoch Time: 0.70\n",
            " Epoch 9401/12000 | Loss: 64.18776 | Discriminator loss: 0.39931 | Generator loss: 63.78846 | Epoch Time: 0.72\n",
            " Epoch 9501/12000 | Loss: 72.63048 | Discriminator loss: 0.30377 | Generator loss: 72.32671 | Epoch Time: 0.72\n",
            " Epoch 9601/12000 | Loss: 66.02553 | Discriminator loss: 0.56447 | Generator loss: 65.46106 | Epoch Time: 0.70\n",
            " Epoch 9701/12000 | Loss: 54.97424 | Discriminator loss: 0.22896 | Generator loss: 54.74529 | Epoch Time: 0.70\n",
            " Epoch 9801/12000 | Loss: 64.82152 | Discriminator loss: 0.63573 | Generator loss: 64.18578 | Epoch Time: 0.72\n",
            " Epoch 9901/12000 | Loss: 55.24712 | Discriminator loss: 0.75652 | Generator loss: 54.49060 | Epoch Time: 0.70\n",
            " Epoch 10001/12000 | Loss: 61.06402 | Discriminator loss: 0.39907 | Generator loss: 60.66494 | Epoch Time: 0.72\n",
            " Epoch 10101/12000 | Loss: 55.15781 | Discriminator loss: 0.35388 | Generator loss: 54.80393 | Epoch Time: 0.73\n",
            " Epoch 10201/12000 | Loss: 51.70971 | Discriminator loss: 0.44568 | Generator loss: 51.26404 | Epoch Time: 0.70\n",
            " Epoch 10301/12000 | Loss: 67.36863 | Discriminator loss: 0.15934 | Generator loss: 67.20928 | Epoch Time: 0.73\n",
            " Epoch 10401/12000 | Loss: 46.92856 | Discriminator loss: 0.71472 | Generator loss: 46.21384 | Epoch Time: 0.71\n",
            " Epoch 10501/12000 | Loss: 54.16185 | Discriminator loss: 0.48788 | Generator loss: 53.67397 | Epoch Time: 0.70\n",
            " Epoch 10601/12000 | Loss: 50.77071 | Discriminator loss: 0.41191 | Generator loss: 50.35880 | Epoch Time: 0.71\n",
            " Epoch 10701/12000 | Loss: 50.92962 | Discriminator loss: 0.15505 | Generator loss: 50.77457 | Epoch Time: 0.71\n",
            " Epoch 10801/12000 | Loss: 58.15741 | Discriminator loss: 0.32769 | Generator loss: 57.82972 | Epoch Time: 0.72\n",
            " Epoch 10901/12000 | Loss: 55.29560 | Discriminator loss: 0.29702 | Generator loss: 54.99859 | Epoch Time: 0.70\n",
            " Epoch 11001/12000 | Loss: 56.90884 | Discriminator loss: 0.31415 | Generator loss: 56.59470 | Epoch Time: 0.70\n",
            " Epoch 11101/12000 | Loss: 56.81062 | Discriminator loss: 0.26027 | Generator loss: 56.55035 | Epoch Time: 0.70\n",
            " Epoch 11201/12000 | Loss: 51.66382 | Discriminator loss: 0.17402 | Generator loss: 51.48980 | Epoch Time: 0.71\n",
            " Epoch 11301/12000 | Loss: 61.40908 | Discriminator loss: 0.31116 | Generator loss: 61.09792 | Epoch Time: 0.70\n",
            " Epoch 11401/12000 | Loss: 50.63794 | Discriminator loss: 0.17971 | Generator loss: 50.45823 | Epoch Time: 0.73\n",
            " Epoch 11501/12000 | Loss: 51.70233 | Discriminator loss: 0.14121 | Generator loss: 51.56112 | Epoch Time: 0.70\n",
            " Epoch 11601/12000 | Loss: 46.80266 | Discriminator loss: 0.23244 | Generator loss: 46.57022 | Epoch Time: 0.72\n",
            " Epoch 11701/12000 | Loss: 56.10205 | Discriminator loss: 0.08096 | Generator loss: 56.02109 | Epoch Time: 0.70\n",
            " Epoch 11801/12000 | Loss: 59.69887 | Discriminator loss: 0.24403 | Generator loss: 59.45483 | Epoch Time: 0.72\n",
            " Epoch 11901/12000 | Loss: 46.02835 | Discriminator loss: 0.21891 | Generator loss: 45.80943 | Epoch Time: 0.70\n"
          ],
          "name": "stdout"
        }
      ]
    },
    {
      "cell_type": "code",
      "metadata": {
        "colab": {
          "base_uri": "https://localhost:8080/"
        },
        "id": "oHx5MXyNo_nD",
        "outputId": "051c1b7a-3e3d-487a-a803-ebef867855b6"
      },
      "source": [
        "train(8000)"
      ],
      "execution_count": null,
      "outputs": [
        {
          "output_type": "stream",
          "text": [
            " Epoch 01/8000 | Loss: 587.47229 | Discriminator loss: 5.95495 | Generator loss: 581.51733 | Epoch Time: 20.48\n",
            " Epoch 101/8000 | Loss: 215.83412 | Discriminator loss: 0.63040 | Generator loss: 215.20372 | Epoch Time: 0.66\n",
            " Epoch 201/8000 | Loss: 158.47328 | Discriminator loss: 0.47337 | Generator loss: 157.99991 | Epoch Time: 0.68\n",
            " Epoch 301/8000 | Loss: 113.15959 | Discriminator loss: 0.17037 | Generator loss: 112.98921 | Epoch Time: 0.68\n",
            " Epoch 401/8000 | Loss: 82.51777 | Discriminator loss: 0.57499 | Generator loss: 81.94279 | Epoch Time: 0.68\n",
            " Epoch 501/8000 | Loss: 75.86002 | Discriminator loss: 0.62162 | Generator loss: 75.23840 | Epoch Time: 0.69\n",
            " Epoch 601/8000 | Loss: 63.58978 | Discriminator loss: 0.68161 | Generator loss: 62.90818 | Epoch Time: 0.68\n",
            " Epoch 701/8000 | Loss: 60.59313 | Discriminator loss: 0.69254 | Generator loss: 59.90060 | Epoch Time: 0.69\n",
            " Epoch 801/8000 | Loss: 55.86387 | Discriminator loss: 0.49278 | Generator loss: 55.37109 | Epoch Time: 0.69\n",
            " Epoch 901/8000 | Loss: 43.14641 | Discriminator loss: 0.78765 | Generator loss: 42.35876 | Epoch Time: 0.68\n",
            " Epoch 1001/8000 | Loss: 54.38919 | Discriminator loss: 1.31869 | Generator loss: 53.07050 | Epoch Time: 0.69\n",
            " Epoch 1101/8000 | Loss: 52.88702 | Discriminator loss: 0.90632 | Generator loss: 51.98069 | Epoch Time: 0.69\n",
            " Epoch 1201/8000 | Loss: 39.06462 | Discriminator loss: 0.58432 | Generator loss: 38.48030 | Epoch Time: 0.69\n",
            " Epoch 1301/8000 | Loss: 46.59098 | Discriminator loss: 0.65317 | Generator loss: 45.93781 | Epoch Time: 0.69\n",
            " Epoch 1401/8000 | Loss: 41.43339 | Discriminator loss: 0.75479 | Generator loss: 40.67861 | Epoch Time: 0.69\n",
            " Epoch 1501/8000 | Loss: 37.65911 | Discriminator loss: 0.66656 | Generator loss: 36.99255 | Epoch Time: 0.69\n",
            " Epoch 1601/8000 | Loss: 38.60115 | Discriminator loss: 0.65046 | Generator loss: 37.95070 | Epoch Time: 0.68\n",
            " Epoch 1701/8000 | Loss: 35.35180 | Discriminator loss: 0.68293 | Generator loss: 34.66887 | Epoch Time: 0.69\n",
            " Epoch 1801/8000 | Loss: 39.54691 | Discriminator loss: 0.76156 | Generator loss: 38.78535 | Epoch Time: 0.69\n",
            " Epoch 1901/8000 | Loss: 37.78597 | Discriminator loss: 0.65012 | Generator loss: 37.13585 | Epoch Time: 0.68\n",
            " Epoch 2001/8000 | Loss: 41.98337 | Discriminator loss: 0.79061 | Generator loss: 41.19276 | Epoch Time: 0.69\n",
            " Epoch 2101/8000 | Loss: 30.26340 | Discriminator loss: 0.70021 | Generator loss: 29.56319 | Epoch Time: 0.68\n",
            " Epoch 2201/8000 | Loss: 34.41544 | Discriminator loss: 0.64602 | Generator loss: 33.76942 | Epoch Time: 0.68\n",
            " Epoch 2301/8000 | Loss: 34.19063 | Discriminator loss: 0.68569 | Generator loss: 33.50494 | Epoch Time: 0.69\n",
            " Epoch 2401/8000 | Loss: 30.76415 | Discriminator loss: 0.72061 | Generator loss: 30.04354 | Epoch Time: 0.69\n",
            " Epoch 2501/8000 | Loss: 36.42077 | Discriminator loss: 0.72332 | Generator loss: 35.69745 | Epoch Time: 0.68\n",
            " Epoch 2601/8000 | Loss: 32.58831 | Discriminator loss: 0.67526 | Generator loss: 31.91304 | Epoch Time: 0.69\n",
            " Epoch 2701/8000 | Loss: 31.40988 | Discriminator loss: 0.69109 | Generator loss: 30.71879 | Epoch Time: 0.70\n",
            " Epoch 2801/8000 | Loss: 46.63108 | Discriminator loss: 0.66806 | Generator loss: 45.96303 | Epoch Time: 0.69\n",
            " Epoch 2901/8000 | Loss: 27.42931 | Discriminator loss: 0.65014 | Generator loss: 26.77917 | Epoch Time: 0.69\n",
            " Epoch 3001/8000 | Loss: 31.91364 | Discriminator loss: 0.74168 | Generator loss: 31.17196 | Epoch Time: 0.69\n",
            " Epoch 3101/8000 | Loss: 27.96454 | Discriminator loss: 0.71682 | Generator loss: 27.24772 | Epoch Time: 0.69\n",
            " Epoch 3201/8000 | Loss: 27.14900 | Discriminator loss: 0.67683 | Generator loss: 26.47217 | Epoch Time: 0.69\n",
            " Epoch 3301/8000 | Loss: 27.23038 | Discriminator loss: 0.70892 | Generator loss: 26.52146 | Epoch Time: 0.69\n",
            " Epoch 3401/8000 | Loss: 20.45471 | Discriminator loss: 0.70436 | Generator loss: 19.75035 | Epoch Time: 0.68\n",
            " Epoch 3501/8000 | Loss: 27.87275 | Discriminator loss: 0.72688 | Generator loss: 27.14587 | Epoch Time: 0.69\n",
            " Epoch 3601/8000 | Loss: 28.06337 | Discriminator loss: 0.68060 | Generator loss: 27.38278 | Epoch Time: 0.68\n",
            " Epoch 3701/8000 | Loss: 31.29181 | Discriminator loss: 0.66555 | Generator loss: 30.62627 | Epoch Time: 0.69\n",
            " Epoch 3801/8000 | Loss: 28.33190 | Discriminator loss: 0.66800 | Generator loss: 27.66389 | Epoch Time: 0.68\n",
            " Epoch 3901/8000 | Loss: 24.70096 | Discriminator loss: 0.70124 | Generator loss: 23.99971 | Epoch Time: 0.68\n",
            " Epoch 4001/8000 | Loss: 26.00413 | Discriminator loss: 0.70359 | Generator loss: 25.30054 | Epoch Time: 0.70\n",
            " Epoch 4101/8000 | Loss: 26.15315 | Discriminator loss: 0.69572 | Generator loss: 25.45744 | Epoch Time: 0.69\n",
            " Epoch 4201/8000 | Loss: 25.46202 | Discriminator loss: 0.64478 | Generator loss: 24.81723 | Epoch Time: 0.69\n",
            " Epoch 4301/8000 | Loss: 22.35120 | Discriminator loss: 0.67657 | Generator loss: 21.67463 | Epoch Time: 0.69\n",
            " Epoch 4401/8000 | Loss: 22.44597 | Discriminator loss: 0.71645 | Generator loss: 21.72952 | Epoch Time: 0.69\n",
            " Epoch 4501/8000 | Loss: 24.72844 | Discriminator loss: 0.68007 | Generator loss: 24.04837 | Epoch Time: 0.69\n",
            " Epoch 4601/8000 | Loss: 23.15454 | Discriminator loss: 0.66298 | Generator loss: 22.49156 | Epoch Time: 0.68\n",
            " Epoch 4701/8000 | Loss: 28.90934 | Discriminator loss: 0.68971 | Generator loss: 28.21962 | Epoch Time: 0.69\n",
            " Epoch 4801/8000 | Loss: 24.38313 | Discriminator loss: 0.67601 | Generator loss: 23.70712 | Epoch Time: 0.69\n",
            " Epoch 4901/8000 | Loss: 24.28695 | Discriminator loss: 0.72836 | Generator loss: 23.55859 | Epoch Time: 0.69\n",
            " Epoch 5001/8000 | Loss: 25.36107 | Discriminator loss: 0.68703 | Generator loss: 24.67404 | Epoch Time: 0.68\n",
            " Epoch 5101/8000 | Loss: 28.68033 | Discriminator loss: 0.77803 | Generator loss: 27.90230 | Epoch Time: 0.69\n",
            " Epoch 5201/8000 | Loss: 24.34301 | Discriminator loss: 0.67749 | Generator loss: 23.66552 | Epoch Time: 0.69\n",
            " Epoch 5301/8000 | Loss: 22.91973 | Discriminator loss: 0.65514 | Generator loss: 22.26458 | Epoch Time: 0.69\n",
            " Epoch 5401/8000 | Loss: 24.82203 | Discriminator loss: 0.67474 | Generator loss: 24.14729 | Epoch Time: 0.69\n",
            " Epoch 5501/8000 | Loss: 22.70832 | Discriminator loss: 0.70239 | Generator loss: 22.00592 | Epoch Time: 0.69\n",
            " Epoch 5601/8000 | Loss: 27.76022 | Discriminator loss: 0.66524 | Generator loss: 27.09498 | Epoch Time: 0.70\n",
            " Epoch 5701/8000 | Loss: 23.90843 | Discriminator loss: 0.67472 | Generator loss: 23.23372 | Epoch Time: 0.69\n",
            " Epoch 5801/8000 | Loss: 21.02409 | Discriminator loss: 0.68998 | Generator loss: 20.33411 | Epoch Time: 0.68\n",
            " Epoch 5901/8000 | Loss: 20.63345 | Discriminator loss: 0.68265 | Generator loss: 19.95080 | Epoch Time: 0.68\n",
            " Epoch 6001/8000 | Loss: 22.98146 | Discriminator loss: 0.71437 | Generator loss: 22.26708 | Epoch Time: 0.69\n",
            " Epoch 6101/8000 | Loss: 23.23049 | Discriminator loss: 0.66477 | Generator loss: 22.56572 | Epoch Time: 0.70\n",
            " Epoch 6201/8000 | Loss: 19.85998 | Discriminator loss: 0.71279 | Generator loss: 19.14720 | Epoch Time: 0.70\n",
            " Epoch 6301/8000 | Loss: 25.16212 | Discriminator loss: 0.67713 | Generator loss: 24.48499 | Epoch Time: 0.69\n",
            " Epoch 6401/8000 | Loss: 24.19290 | Discriminator loss: 0.67723 | Generator loss: 23.51567 | Epoch Time: 0.69\n",
            " Epoch 6501/8000 | Loss: 20.00172 | Discriminator loss: 0.66328 | Generator loss: 19.33844 | Epoch Time: 0.70\n",
            " Epoch 6601/8000 | Loss: 22.32685 | Discriminator loss: 1.07620 | Generator loss: 21.25065 | Epoch Time: 0.69\n",
            " Epoch 6701/8000 | Loss: 18.07124 | Discriminator loss: 0.71983 | Generator loss: 17.35142 | Epoch Time: 0.68\n",
            " Epoch 6801/8000 | Loss: 40.17058 | Discriminator loss: 0.68587 | Generator loss: 39.48471 | Epoch Time: 0.69\n",
            " Epoch 6901/8000 | Loss: 19.86942 | Discriminator loss: 0.82523 | Generator loss: 19.04420 | Epoch Time: 0.69\n",
            " Epoch 7001/8000 | Loss: 21.54175 | Discriminator loss: 0.68535 | Generator loss: 20.85640 | Epoch Time: 0.69\n",
            " Epoch 7101/8000 | Loss: 20.36534 | Discriminator loss: 0.68994 | Generator loss: 19.67541 | Epoch Time: 0.69\n",
            " Epoch 7201/8000 | Loss: 21.07390 | Discriminator loss: 0.69038 | Generator loss: 20.38352 | Epoch Time: 0.68\n",
            " Epoch 7301/8000 | Loss: 18.44947 | Discriminator loss: 0.66233 | Generator loss: 17.78713 | Epoch Time: 0.69\n",
            " Epoch 7401/8000 | Loss: 19.62315 | Discriminator loss: 0.67788 | Generator loss: 18.94527 | Epoch Time: 0.69\n",
            " Epoch 7501/8000 | Loss: 18.90378 | Discriminator loss: 0.65812 | Generator loss: 18.24566 | Epoch Time: 0.69\n",
            " Epoch 7601/8000 | Loss: 19.59003 | Discriminator loss: 0.67064 | Generator loss: 18.91940 | Epoch Time: 0.69\n",
            " Epoch 7701/8000 | Loss: 20.19775 | Discriminator loss: 0.67719 | Generator loss: 19.52056 | Epoch Time: 0.69\n",
            " Epoch 7801/8000 | Loss: 20.82606 | Discriminator loss: 0.84060 | Generator loss: 19.98546 | Epoch Time: 0.69\n",
            " Epoch 7901/8000 | Loss: 18.90318 | Discriminator loss: 0.66887 | Generator loss: 18.23430 | Epoch Time: 0.69\n",
            " Epoch 8001/8000 | Loss: 20.75701 | Discriminator loss: 0.68244 | Generator loss: 20.07457 | Epoch Time: 0.69\n",
            " Epoch 8101/8000 | Loss: 17.22604 | Discriminator loss: 0.66792 | Generator loss: 16.55812 | Epoch Time: 0.70\n",
            " Epoch 8201/8000 | Loss: 18.12664 | Discriminator loss: 0.68408 | Generator loss: 17.44256 | Epoch Time: 0.69\n",
            " Epoch 8301/8000 | Loss: 19.31512 | Discriminator loss: 0.68020 | Generator loss: 18.63492 | Epoch Time: 0.70\n",
            " Epoch 8401/8000 | Loss: 17.29666 | Discriminator loss: 0.67304 | Generator loss: 16.62362 | Epoch Time: 0.70\n",
            " Epoch 8501/8000 | Loss: 19.20998 | Discriminator loss: 0.67224 | Generator loss: 18.53774 | Epoch Time: 0.70\n",
            " Epoch 8601/8000 | Loss: 16.15151 | Discriminator loss: 0.71269 | Generator loss: 15.43881 | Epoch Time: 0.68\n",
            " Epoch 8701/8000 | Loss: 21.61239 | Discriminator loss: 0.67230 | Generator loss: 20.94009 | Epoch Time: 0.69\n",
            " Epoch 8801/8000 | Loss: 16.63653 | Discriminator loss: 0.70162 | Generator loss: 15.93491 | Epoch Time: 0.70\n",
            " Epoch 8901/8000 | Loss: 18.56992 | Discriminator loss: 0.67573 | Generator loss: 17.89419 | Epoch Time: 0.69\n",
            " Epoch 9001/8000 | Loss: 18.71724 | Discriminator loss: 0.66948 | Generator loss: 18.04776 | Epoch Time: 0.71\n",
            " Epoch 9101/8000 | Loss: 18.67856 | Discriminator loss: 0.66925 | Generator loss: 18.00931 | Epoch Time: 0.69\n",
            " Epoch 9201/8000 | Loss: 15.26216 | Discriminator loss: 0.70590 | Generator loss: 14.55626 | Epoch Time: 0.71\n",
            " Epoch 9301/8000 | Loss: 16.94783 | Discriminator loss: 0.68938 | Generator loss: 16.25845 | Epoch Time: 0.70\n",
            " Epoch 9401/8000 | Loss: 17.54834 | Discriminator loss: 0.67489 | Generator loss: 16.87345 | Epoch Time: 0.72\n",
            " Epoch 9501/8000 | Loss: 21.45060 | Discriminator loss: 0.68369 | Generator loss: 20.76691 | Epoch Time: 0.71\n",
            " Epoch 9601/8000 | Loss: 20.14300 | Discriminator loss: 0.67870 | Generator loss: 19.46430 | Epoch Time: 0.69\n",
            " Epoch 9701/8000 | Loss: 15.83454 | Discriminator loss: 0.67183 | Generator loss: 15.16272 | Epoch Time: 0.69\n",
            " Epoch 9801/8000 | Loss: 17.94419 | Discriminator loss: 0.67334 | Generator loss: 17.27085 | Epoch Time: 0.70\n",
            " Epoch 9901/8000 | Loss: 17.86418 | Discriminator loss: 0.67141 | Generator loss: 17.19277 | Epoch Time: 0.70\n",
            " Epoch 10001/8000 | Loss: 14.90633 | Discriminator loss: 0.66935 | Generator loss: 14.23698 | Epoch Time: 0.70\n",
            " Epoch 10101/8000 | Loss: 16.32276 | Discriminator loss: 0.66778 | Generator loss: 15.65498 | Epoch Time: 0.69\n",
            " Epoch 10201/8000 | Loss: 17.00202 | Discriminator loss: 0.66846 | Generator loss: 16.33356 | Epoch Time: 0.70\n",
            " Epoch 10301/8000 | Loss: 15.87252 | Discriminator loss: 0.66768 | Generator loss: 15.20483 | Epoch Time: 0.69\n",
            " Epoch 10401/8000 | Loss: 17.82249 | Discriminator loss: 0.67881 | Generator loss: 17.14369 | Epoch Time: 0.69\n",
            " Epoch 10501/8000 | Loss: 18.71982 | Discriminator loss: 0.67702 | Generator loss: 18.04280 | Epoch Time: 0.69\n",
            " Epoch 10601/8000 | Loss: 15.29899 | Discriminator loss: 0.67204 | Generator loss: 14.62695 | Epoch Time: 0.70\n",
            " Epoch 10701/8000 | Loss: 13.49239 | Discriminator loss: 0.66730 | Generator loss: 12.82509 | Epoch Time: 0.70\n",
            " Epoch 10801/8000 | Loss: 13.83617 | Discriminator loss: 0.66758 | Generator loss: 13.16859 | Epoch Time: 0.69\n",
            " Epoch 10901/8000 | Loss: 14.93598 | Discriminator loss: 0.67307 | Generator loss: 14.26291 | Epoch Time: 0.69\n",
            " Epoch 11001/8000 | Loss: 16.86203 | Discriminator loss: 0.66987 | Generator loss: 16.19215 | Epoch Time: 0.69\n",
            " Epoch 11101/8000 | Loss: 19.45492 | Discriminator loss: 0.66902 | Generator loss: 18.78590 | Epoch Time: 0.69\n",
            " Epoch 11201/8000 | Loss: 15.55028 | Discriminator loss: 0.67620 | Generator loss: 14.87408 | Epoch Time: 0.68\n",
            " Epoch 11301/8000 | Loss: 16.66096 | Discriminator loss: 0.67388 | Generator loss: 15.98708 | Epoch Time: 0.69\n",
            " Epoch 11401/8000 | Loss: 14.34129 | Discriminator loss: 0.66902 | Generator loss: 13.67228 | Epoch Time: 0.68\n",
            " Epoch 11501/8000 | Loss: 17.71971 | Discriminator loss: 0.68273 | Generator loss: 17.03698 | Epoch Time: 0.70\n",
            " Epoch 11601/8000 | Loss: 21.07334 | Discriminator loss: 0.66289 | Generator loss: 20.41045 | Epoch Time: 0.69\n",
            " Epoch 11701/8000 | Loss: 14.16597 | Discriminator loss: 0.66696 | Generator loss: 13.49901 | Epoch Time: 0.70\n",
            " Epoch 11801/8000 | Loss: 14.59027 | Discriminator loss: 0.66214 | Generator loss: 13.92813 | Epoch Time: 0.69\n",
            " Epoch 11901/8000 | Loss: 14.22196 | Discriminator loss: 0.65556 | Generator loss: 13.56640 | Epoch Time: 0.69\n"
          ],
          "name": "stdout"
        }
      ]
    },
    {
      "cell_type": "code",
      "metadata": {
        "id": "K5A2E-g6jLcq"
      },
      "source": [
        "loss_metrics = {\n",
        "    \"loss\": train_loss_results,\n",
        "    \"generator loss\": generator_loss_results,\n",
        "    \"discriminator loss\": discriminator_loss_results,\n",
        "}"
      ],
      "execution_count": null,
      "outputs": []
    },
    {
      "cell_type": "code",
      "metadata": {
        "id": "9MUcBZYnj6dG"
      },
      "source": [
        "def plot_metrics(loss_metrics, vertical_size, horizontal_size, figsize=(15, 15)):\n",
        "  vertical_axes = list(range(vertical_size))\n",
        "  horizontal_axes = list(range(horizontal_size))\n",
        "\n",
        "  fig, ax = plt.subplots(vertical_size, horizontal_size, figsize=figsize)\n",
        "  counter = 0\n",
        "\n",
        "  metrics_names = list(loss_metrics.keys())\n",
        "  count = len(metrics_names)\n",
        "\n",
        "  if vertical_size == 1:\n",
        "    for x in horizontal_axes:\n",
        "      title = metrics_names[counter]\n",
        "      value = loss_metrics[title]\n",
        "      ax[x].plot(np.arange(len(value)), value)\n",
        "      ax[x].set_title(title)\n",
        "      counter += 1\n",
        "  else:\n",
        "    for y in vertical_axes:\n",
        "      for x in horizontal_axes:\n",
        "        title = metrics_names[counter]\n",
        "        value = loss_metrics[title]\n",
        "        ax[y, x].plot(np.arange(len(value)), value)\n",
        "        ax[y, x].set_title(title)\n",
        "        counter += 1"
      ],
      "execution_count": null,
      "outputs": []
    },
    {
      "cell_type": "code",
      "metadata": {
        "colab": {
          "base_uri": "https://localhost:8080/",
          "height": 336
        },
        "id": "uxxpdsKDk03N",
        "outputId": "72ef3451-ba1c-49fd-9da6-4723adb3b34b"
      },
      "source": [
        "plot_metrics(loss_metrics, 1, 3, figsize=(15, 5))"
      ],
      "execution_count": null,
      "outputs": [
        {
          "output_type": "display_data",
          "data": {
            "image/png": "[encoded data removed]",
            "text/plain": [
              "<Figure size 1080x360 with 3 Axes>"
            ]
          },
          "metadata": {
            "tags": [],
            "needs_background": "light"
          }
        }
      ]
    },
    {
      "cell_type": "markdown",
      "metadata": {
        "id": "soRT-M1QIBwE"
      },
      "source": [
        "# Use model"
      ]
    },
    {
      "cell_type": "code",
      "metadata": {
        "id": "_g3AUczA7T2Y"
      },
      "source": [
        "## !unzip -q car_test"
      ],
      "execution_count": null,
      "outputs": []
    },
    {
      "cell_type": "code",
      "metadata": {
        "id": "J0_8_TTcv8Uz"
      },
      "source": [
        "# <UseModel>"
      ],
      "execution_count": null,
      "outputs": []
    },
    {
      "cell_type": "code",
      "metadata": {
        "id": "_zY2epoX7Vmw"
      },
      "source": [
        "#! from data_generator.data_generator import load_image\n",
        "#! import tensorflow as tf\n",
        "#! import os\n",
        "#! import matplotlib.pyplot as plt"
      ],
      "execution_count": null,
      "outputs": []
    },
    {
      "cell_type": "code",
      "metadata": {
        "id": "EEvh2GanG-MG"
      },
      "source": [
        "data_path = os.path.abspath(\"./data/car_test\")"
      ],
      "execution_count": null,
      "outputs": []
    },
    {
      "cell_type": "code",
      "metadata": {
        "id": "DdZWCEb0IHoo"
      },
      "source": [
        "img_test_1 = load_image(f\"{data_path}/car_test1.png\")\n",
        "img_test_2 = load_image(f\"{data_path}}/car_test2.png\")"
      ],
      "execution_count": null,
      "outputs": []
    },
    {
      "cell_type": "code",
      "metadata": {
        "id": "RZsFanjyINsO"
      },
      "source": [
        "input = tf.stack([img_test_1, img_test_2], axis=0)"
      ],
      "execution_count": null,
      "outputs": []
    },
    {
      "cell_type": "code",
      "metadata": {
        "id": "0QlbovP28vfK"
      },
      "source": [
        "#! generator = tf.keras.models.load_model('saved_model/tps_generator')"
      ],
      "execution_count": null,
      "outputs": []
    },
    {
      "cell_type": "code",
      "metadata": {
        "id": "rb_UoDZkR9JE"
      },
      "source": [
        "results = generator(input)"
      ],
      "execution_count": null,
      "outputs": []
    },
    {
      "cell_type": "code",
      "metadata": {
        "id": "Ks5-JwQO9BRt"
      },
      "source": [
        "plt.imsave(\"image1.jpg\", results[0])\n",
        "plt.imsave(\"image2.jpg\", results[1])"
      ],
      "execution_count": null,
      "outputs": []
    },
    {
      "cell_type": "code",
      "metadata": {
        "id": "VJs7FeoF9D8x"
      },
      "source": [
        "# <UseModelEnd>"
      ],
      "execution_count": null,
      "outputs": []
    },
    {
      "cell_type": "code",
      "metadata": {
        "colab": {
          "base_uri": "https://localhost:8080/",
          "height": 235
        },
        "id": "BOMBNCSPtebe",
        "outputId": "2f784e68-48a2-48ce-b6cb-07a5350a97a6"
      },
      "source": [
        "plt.imshow(input[0])"
      ],
      "execution_count": null,
      "outputs": [
        {
          "output_type": "execute_result",
          "data": {
            "text/plain": [
              "<matplotlib.image.AxesImage at 0x7fa984a74ba8>"
            ]
          },
          "metadata": {
            "tags": []
          },
          "execution_count": 56
        },
        {
          "output_type": "display_data",
          "data": {
            "image/png": "[encoded data removed]",
            "text/plain": [
              "<Figure size 432x288 with 1 Axes>"
            ]
          },
          "metadata": {
            "tags": [],
            "needs_background": "light"
          }
        }
      ]
    },
    {
      "cell_type": "code",
      "metadata": {
        "colab": {
          "base_uri": "https://localhost:8080/",
          "height": 235
        },
        "id": "LlKQ9MM0Ixib",
        "outputId": "a8c2e820-fd19-44d9-db8c-b64f9893bcce"
      },
      "source": [
        "plt.imshow(input[1])"
      ],
      "execution_count": null,
      "outputs": [
        {
          "output_type": "execute_result",
          "data": {
            "text/plain": [
              "<matplotlib.image.AxesImage at 0x7fa985dff470>"
            ]
          },
          "metadata": {
            "tags": []
          },
          "execution_count": 47
        },
        {
          "output_type": "display_data",
          "data": {
            "image/png": "[encoded data removed]",
            "text/plain": [
              "<Figure size 432x288 with 1 Axes>"
            ]
          },
          "metadata": {
            "tags": [],
            "needs_background": "light"
          }
        }
      ]
    },
    {
      "cell_type": "code",
      "metadata": {
        "colab": {
          "base_uri": "https://localhost:8080/"
        },
        "id": "6MK9gQ3zH1el",
        "outputId": "c5200267-cc77-45a5-eff1-6efa5278ee44"
      },
      "source": [
        "results.shape"
      ],
      "execution_count": null,
      "outputs": [
        {
          "output_type": "execute_result",
          "data": {
            "text/plain": [
              "TensorShape([2, 256, 512, 3])"
            ]
          },
          "metadata": {
            "tags": []
          },
          "execution_count": 49
        }
      ]
    },
    {
      "cell_type": "code",
      "metadata": {
        "colab": {
          "base_uri": "https://localhost:8080/"
        },
        "id": "9aT3lxoqJJji",
        "outputId": "8d3b87ed-4be3-44e7-e939-2966c2f07e77"
      },
      "source": [
        "results[0].numpy().max()"
      ],
      "execution_count": null,
      "outputs": [
        {
          "output_type": "execute_result",
          "data": {
            "text/plain": [
              "0.99999994"
            ]
          },
          "metadata": {
            "tags": []
          },
          "execution_count": 50
        }
      ]
    },
    {
      "cell_type": "code",
      "metadata": {
        "colab": {
          "base_uri": "https://localhost:8080/",
          "height": 251
        },
        "id": "Rg3aZ9KZI2iD",
        "outputId": "f4fbce7c-15be-4b3d-b998-10c66526b7b1"
      },
      "source": [
        "plt.imshow(results[0])"
      ],
      "execution_count": null,
      "outputs": [
        {
          "output_type": "stream",
          "text": [
            "Clipping input data to the valid range for imshow with RGB data ([0..1] for floats or [0..255] for integers).\n"
          ],
          "name": "stderr"
        },
        {
          "output_type": "execute_result",
          "data": {
            "text/plain": [
              "<matplotlib.image.AxesImage at 0x7fa985d5ab70>"
            ]
          },
          "metadata": {
            "tags": []
          },
          "execution_count": 51
        },
        {
          "output_type": "display_data",
          "data": {
            "image/png": "[encoded data removed]",
            "text/plain": [
              "<Figure size 432x288 with 1 Axes>"
            ]
          },
          "metadata": {
            "tags": [],
            "needs_background": "light"
          }
        }
      ]
    },
    {
      "cell_type": "code",
      "metadata": {
        "colab": {
          "base_uri": "https://localhost:8080/",
          "height": 251
        },
        "id": "Pn7L0Tw4I5U3",
        "outputId": "550c34a6-eb1a-446b-8487-d84910d4c601"
      },
      "source": [
        "plt.imshow(results[1])"
      ],
      "execution_count": null,
      "outputs": [
        {
          "output_type": "stream",
          "text": [
            "Clipping input data to the valid range for imshow with RGB data ([0..1] for floats or [0..255] for integers).\n"
          ],
          "name": "stderr"
        },
        {
          "output_type": "execute_result",
          "data": {
            "text/plain": [
              "<matplotlib.image.AxesImage at 0x7fa9854c7278>"
            ]
          },
          "metadata": {
            "tags": []
          },
          "execution_count": 52
        },
        {
          "output_type": "display_data",
          "data": {
            "image/png": "[encoded data removed]",
            "text/plain": [
              "<Figure size 432x288 with 1 Axes>"
            ]
          },
          "metadata": {
            "tags": [],
            "needs_background": "light"
          }
        }
      ]
    },
    {
      "cell_type": "code",
      "metadata": {
        "id": "WIYjFF_97RZ0"
      },
      "source": [
        "# <UseModelEnd>"
      ],
      "execution_count": null,
      "outputs": []
    },
    {
      "cell_type": "code",
      "metadata": {
        "colab": {
          "base_uri": "https://localhost:8080/"
        },
        "id": "TSce4cYYJQue",
        "outputId": "05d7d348-2f5b-40ea-9a79-e2b922e254d3"
      },
      "source": [
        "generator.save('saved_model/tps_generator_12000')"
      ],
      "execution_count": null,
      "outputs": [
        {
          "output_type": "stream",
          "text": [
            "INFO:tensorflow:Assets written to: saved_model/tps_generator_12000/assets\n"
          ],
          "name": "stdout"
        }
      ]
    }
  ]
}